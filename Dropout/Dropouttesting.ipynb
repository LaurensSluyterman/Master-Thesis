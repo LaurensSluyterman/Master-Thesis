{
 "cells": [
  {
   "cell_type": "markdown",
   "metadata": {},
   "source": [
    "# Testing dropout"
   ]
  },
  {
   "cell_type": "code",
   "execution_count": 76,
   "metadata": {},
   "outputs": [],
   "source": [
    "import warnings\n",
    "warnings.filterwarnings(\"ignore\")\n",
    "\n",
    "import math\n",
    "from scipy.special import logsumexp\n",
    "import numpy as np\n",
    "\n",
    "from tensorflow.keras.regularizers import l2\n",
    "from tensorflow.keras import Input\n",
    "from tensorflow.keras.layers import Dropout\n",
    "from tensorflow.keras.layers import Dense\n",
    "from tensorflow.keras import Model\n",
    "\n",
    "import time\n",
    "\n",
    "\n",
    "class net:\n",
    "\n",
    "    def __init__(self, X_train, y_train, n_hidden, n_epochs = 40,\n",
    "        normalize = False, tau = 1.0, dropout = 0.05):\n",
    "\n",
    "        \"\"\"\n",
    "            Constructor for the class implementing a Bayesian neural network\n",
    "            trained with the probabilistic back propagation method.\n",
    "            @param X_train      Matrix with the features for the training data.\n",
    "            @param y_train      Vector with the target variables for the\n",
    "                                training data.\n",
    "            @param n_hidden     Vector with the number of neurons for each\n",
    "                                hidden layer.\n",
    "            @param n_epochs     Numer of epochs for which to train the\n",
    "                                network. The recommended value 40 should be\n",
    "                                enough.\n",
    "            @param normalize    Whether to normalize the input features. This\n",
    "                                is recommended unles the input vector is for\n",
    "                                example formed by binary features (a\n",
    "                                fingerprint). In that case we do not recommend\n",
    "                                to normalize the features.\n",
    "            @param tau          Tau value used for regularization\n",
    "            @param dropout      Dropout rate for all the dropout layers in the\n",
    "                                network.\n",
    "        \"\"\"\n",
    "\n",
    "        # We normalize the training data to have zero mean and unit standard\n",
    "        # deviation in the training set if necessary\n",
    "\n",
    "        if normalize:\n",
    "            self.std_X_train = np.std(X_train, 0)\n",
    "            self.std_X_train[ self.std_X_train == 0 ] = 1\n",
    "            self.mean_X_train = np.mean(X_train, 0)\n",
    "        else:\n",
    "            self.std_X_train = np.ones(1)\n",
    "            self.mean_X_train = np.zeros(1)\n",
    "\n",
    "        X_train = (X_train - np.full(X_train.shape, self.mean_X_train)) / \\\n",
    "            np.full(X_train.shape, self.std_X_train)\n",
    "\n",
    "        self.mean_y_train = np.mean(y_train)\n",
    "        self.std_y_train = np.std(y_train)\n",
    "\n",
    "        y_train_normalized = (y_train - self.mean_y_train) / self.std_y_train\n",
    "        y_train_normalized = np.array(y_train_normalized, ndmin = 2).T\n",
    "        \n",
    "        # We construct the network\n",
    "        N = X_train.shape[0]\n",
    "        batch_size = 128\n",
    "        lengthscale = 1e-2\n",
    "        reg = lengthscale**2 * (1 - dropout) / (2. * N * tau)\n",
    "\n",
    "        inputs = Input(shape=(1,))\n",
    "        inter = Dropout(dropout)(inputs, training=True)\n",
    "        inter = Dense(n_hidden, activation='relu', kernel_regularizer=keras.regularizers.l2(reg))(inter)\n",
    "        for i in range(len(n_hidden) - 1):\n",
    "            inter = Dropout(dropout)(inter, training=True)\n",
    "            inter = Dense(n_hidden[i+1], activation='relu', kernel_regularizer=keras.regularizers.l2(reg))(inter)\n",
    "        inter = Dropout(dropout)(inter, training=True)\n",
    "        outputs = Dense(1, kernel_regularizer=keras.regularizers.l2(reg))(inter)\n",
    "        model = Model(inputs, outputs)\n",
    "\n",
    "        model.compile(loss='mean_squared_error', optimizer='adam')\n",
    "\n",
    "        # We iterate the learning process\n",
    "        start_time = time.time()\n",
    "        model.fit(X_train, y_train_normalized, batch_size=batch_size, nb_epoch=n_epochs, verbose=0)\n",
    "        self.model = model\n",
    "        self.tau = tau\n",
    "        self.running_time = time.time() - start_time\n",
    "\n",
    "        # We are done!\n",
    "\n",
    "    def predict(self, X_test, y_test):\n",
    "\n",
    "        \"\"\"\n",
    "            Function for making predictions with the Bayesian neural network.\n",
    "            @param X_test   The matrix of features for the test data\n",
    "            \n",
    "    \n",
    "            @return m       The predictive mean for the test target variables.\n",
    "            @return v       The predictive variance for the test target\n",
    "                            variables.\n",
    "            @return v_noise The estimated variance for the additive noise.\n",
    "        \"\"\"\n",
    "\n",
    "        X_test = np.array(X_test, ndmin = 2)\n",
    "        y_test = np.array(y_test, ndmin = 2).T\n",
    "\n",
    "        # We normalize the test set\n",
    "\n",
    "        X_test = (X_test - np.full(X_test.shape, self.mean_X_train)) / \\\n",
    "            np.full(X_test.shape, self.std_X_train)\n",
    "\n",
    "        # We compute the predictive mean and variance for the target variables\n",
    "        # of the test data\n",
    "\n",
    "        model = self.model\n",
    "        standard_pred = model.predict(X_test, batch_size=500, verbose=1)\n",
    "        standard_pred = standard_pred * self.std_y_train + self.mean_y_train\n",
    "        rmse_standard_pred = np.mean((y_test.squeeze() - standard_pred.squeeze())**2.)**0.5\n",
    "\n",
    "        T = 10000\n",
    "        \n",
    "        Yt_hat = np.array([model.predict(X_test, batch_size=500, verbose=0) for _ in range(T)])\n",
    "        Yt_hat = Yt_hat * self.std_y_train + self.mean_y_train\n",
    "        MC_pred = np.mean(Yt_hat, 0)\n",
    "        rmse = np.mean((y_test.squeeze() - MC_pred.squeeze())**2.)**0.5\n",
    "\n",
    "        # We compute the test log-likelihood\n",
    "        ll = (logsumexp(-0.5 * self.tau * (y_test[None] - Yt_hat)**2., 0) - np.log(T) \n",
    "            - 0.5*np.log(2*np.pi) + 0.5*np.log(self.tau))\n",
    "        test_ll = np.mean(ll)\n",
    "\n",
    "        # We are done!\n",
    "        return rmse_standard_pred, rmse, test_ll"
   ]
  },
  {
   "cell_type": "code",
   "execution_count": 77,
   "metadata": {},
   "outputs": [
    {
     "name": "stdout",
     "output_type": "stream",
     "text": [
      "WARNING:tensorflow:The `nb_epoch` argument in `fit` has been renamed `epochs`.\n"
     ]
    }
   ],
   "source": [
    "model = net(Xtrain, Ytrain, n_hidden = np.array([40]))"
   ]
  },
  {
   "cell_type": "code",
   "execution_count": 53,
   "metadata": {},
   "outputs": [
    {
     "data": {
      "text/plain": [
       "(100000,)"
      ]
     },
     "execution_count": 53,
     "metadata": {},
     "output_type": "execute_result"
    }
   ],
   "source": [
    "np.shape(Xtrain)"
   ]
  },
  {
   "cell_type": "markdown",
   "metadata": {},
   "source": [
    "## Imports"
   ]
  },
  {
   "cell_type": "code",
   "execution_count": 2,
   "metadata": {
    "collapsed": true
   },
   "outputs": [
    {
     "name": "stderr",
     "output_type": "stream",
     "text": [
      "/Users/laurens/opt/anaconda3/envs/tensorflow2/lib/python3.7/site-packages/tensorflow/python/framework/dtypes.py:516: FutureWarning: Passing (type, 1) or '1type' as a synonym of type is deprecated; in a future version of numpy, it will be understood as (type, (1,)) / '(1,)type'.\n",
      "  _np_qint8 = np.dtype([(\"qint8\", np.int8, 1)])\n",
      "/Users/laurens/opt/anaconda3/envs/tensorflow2/lib/python3.7/site-packages/tensorflow/python/framework/dtypes.py:517: FutureWarning: Passing (type, 1) or '1type' as a synonym of type is deprecated; in a future version of numpy, it will be understood as (type, (1,)) / '(1,)type'.\n",
      "  _np_quint8 = np.dtype([(\"quint8\", np.uint8, 1)])\n",
      "/Users/laurens/opt/anaconda3/envs/tensorflow2/lib/python3.7/site-packages/tensorflow/python/framework/dtypes.py:518: FutureWarning: Passing (type, 1) or '1type' as a synonym of type is deprecated; in a future version of numpy, it will be understood as (type, (1,)) / '(1,)type'.\n",
      "  _np_qint16 = np.dtype([(\"qint16\", np.int16, 1)])\n",
      "/Users/laurens/opt/anaconda3/envs/tensorflow2/lib/python3.7/site-packages/tensorflow/python/framework/dtypes.py:519: FutureWarning: Passing (type, 1) or '1type' as a synonym of type is deprecated; in a future version of numpy, it will be understood as (type, (1,)) / '(1,)type'.\n",
      "  _np_quint16 = np.dtype([(\"quint16\", np.uint16, 1)])\n",
      "/Users/laurens/opt/anaconda3/envs/tensorflow2/lib/python3.7/site-packages/tensorflow/python/framework/dtypes.py:520: FutureWarning: Passing (type, 1) or '1type' as a synonym of type is deprecated; in a future version of numpy, it will be understood as (type, (1,)) / '(1,)type'.\n",
      "  _np_qint32 = np.dtype([(\"qint32\", np.int32, 1)])\n",
      "/Users/laurens/opt/anaconda3/envs/tensorflow2/lib/python3.7/site-packages/tensorflow/python/framework/dtypes.py:525: FutureWarning: Passing (type, 1) or '1type' as a synonym of type is deprecated; in a future version of numpy, it will be understood as (type, (1,)) / '(1,)type'.\n",
      "  np_resource = np.dtype([(\"resource\", np.ubyte, 1)])\n",
      "/Users/laurens/opt/anaconda3/envs/tensorflow2/lib/python3.7/site-packages/tensorboard/compat/tensorflow_stub/dtypes.py:541: FutureWarning: Passing (type, 1) or '1type' as a synonym of type is deprecated; in a future version of numpy, it will be understood as (type, (1,)) / '(1,)type'.\n",
      "  _np_qint8 = np.dtype([(\"qint8\", np.int8, 1)])\n",
      "/Users/laurens/opt/anaconda3/envs/tensorflow2/lib/python3.7/site-packages/tensorboard/compat/tensorflow_stub/dtypes.py:542: FutureWarning: Passing (type, 1) or '1type' as a synonym of type is deprecated; in a future version of numpy, it will be understood as (type, (1,)) / '(1,)type'.\n",
      "  _np_quint8 = np.dtype([(\"quint8\", np.uint8, 1)])\n",
      "/Users/laurens/opt/anaconda3/envs/tensorflow2/lib/python3.7/site-packages/tensorboard/compat/tensorflow_stub/dtypes.py:543: FutureWarning: Passing (type, 1) or '1type' as a synonym of type is deprecated; in a future version of numpy, it will be understood as (type, (1,)) / '(1,)type'.\n",
      "  _np_qint16 = np.dtype([(\"qint16\", np.int16, 1)])\n",
      "/Users/laurens/opt/anaconda3/envs/tensorflow2/lib/python3.7/site-packages/tensorboard/compat/tensorflow_stub/dtypes.py:544: FutureWarning: Passing (type, 1) or '1type' as a synonym of type is deprecated; in a future version of numpy, it will be understood as (type, (1,)) / '(1,)type'.\n",
      "  _np_quint16 = np.dtype([(\"quint16\", np.uint16, 1)])\n",
      "/Users/laurens/opt/anaconda3/envs/tensorflow2/lib/python3.7/site-packages/tensorboard/compat/tensorflow_stub/dtypes.py:545: FutureWarning: Passing (type, 1) or '1type' as a synonym of type is deprecated; in a future version of numpy, it will be understood as (type, (1,)) / '(1,)type'.\n",
      "  _np_qint32 = np.dtype([(\"qint32\", np.int32, 1)])\n",
      "/Users/laurens/opt/anaconda3/envs/tensorflow2/lib/python3.7/site-packages/tensorboard/compat/tensorflow_stub/dtypes.py:550: FutureWarning: Passing (type, 1) or '1type' as a synonym of type is deprecated; in a future version of numpy, it will be understood as (type, (1,)) / '(1,)type'.\n",
      "  np_resource = np.dtype([(\"resource\", np.ubyte, 1)])\n",
      "Using TensorFlow backend.\n"
     ]
    },
    {
     "name": "stdout",
     "output_type": "stream",
     "text": [
      "2.0.0-beta1\n"
     ]
    }
   ],
   "source": [
    "import tensorflow as tf\n",
    "import tensorflow_probability as tfp\n",
    "#%matplotlib notebook\n",
    "import matplotlib.pyplot as plt\n",
    "import tensorflow_datasets as tfds\n",
    "from keras import losses\n",
    "import numpy as np\n",
    "import pandas as pd\n",
    "import seaborn as sns\n",
    "from keras.models import Sequential\n",
    "import numpy\n",
    "from keras.layers import Dense, Flatten, Activation, Dropout\n",
    "from keras.utils import normalize, to_categorical\n",
    "from tensorflow import keras\n",
    "from tensorflow.keras import layers\n",
    "import os\n",
    "\n",
    "print(tf.__version__)\n",
    "tfd = tfp.distributions\n",
    "tfpl = tfp.layers\n",
    "tfk = tf.keras\n",
    "tfkl = tf.keras.layers"
   ]
  },
  {
   "cell_type": "markdown",
   "metadata": {},
   "source": [
    "This script aims to analyze the effectiveness of using MCdropout in order to capture epistemic uncertainty. With this I mean a combination of both model uncertainty and model misspecification. I also estimate the aleatoric uncertainty (inherit noise) and try to analyze epistemic uncertainty of this estimation."
   ]
  },
  {
   "cell_type": "markdown",
   "metadata": {},
   "source": [
    "## Generating data manually"
   ]
  },
  {
   "cell_type": "markdown",
   "metadata": {},
   "source": [
    "Instead of using a dataset I generate my own data so that I can know exactly what the noise and underlying functions are. I took the function $y=2x^{2}+3x$ and added a normally distributed noise term with mean 0 and $\\sigma=0.1+0.3x^{2}$."
   ]
  },
  {
   "cell_type": "code",
   "execution_count": 3,
   "metadata": {},
   "outputs": [],
   "source": [
    "const=0.3\n",
    "def y(x):\n",
    "    return 2*x**2+3*x\n",
    "\n",
    "def sigma(x):\n",
    "    return 0.1+const*x**2\n",
    "\n",
    "negloglik = lambda y, rv_y: -rv_y.log_prob(y)"
   ]
  },
  {
   "cell_type": "code",
   "execution_count": 61,
   "metadata": {},
   "outputs": [],
   "source": [
    "N = 100000  #I generate 100.000 datapoint\n",
    "Xtrain=np.array(np.linspace(-2,2,N)) #In the interval [-2,2]\n",
    "Ytrain=np.zeros(N)\n",
    "real=np.zeros(N)\n",
    "for i in range(0,N):\n",
    "    Ytrain[i]=y(Xtrain[i])+np.random.normal(0,sigma(Xtrain[i]))\n",
    "    real[i]=y(Xtrain[i])"
   ]
  },
  {
   "cell_type": "code",
   "execution_count": 80,
   "metadata": {},
   "outputs": [
    {
     "data": {
      "text/plain": [
       "(333,)"
      ]
     },
     "execution_count": 80,
     "metadata": {},
     "output_type": "execute_result"
    }
   ],
   "source": [
    "Xtest=np.linspace(-2,2,333) #I make a test X set\n",
    "np.shape(Xtest)"
   ]
  },
  {
   "cell_type": "code",
   "execution_count": 55,
   "metadata": {},
   "outputs": [
    {
     "data": {
      "image/png": "[encoded data removed]",
      "text/plain": [
       "<Figure size 432x288 with 1 Axes>"
      ]
     },
     "metadata": {
      "needs_background": "light"
     },
     "output_type": "display_data"
    }
   ],
   "source": [
    "plt.plot(Xtrain,Ytrain)\n",
    "plt.plot(Xtrain,real)\n",
    "plt.show()"
   ]
  },
  {
   "cell_type": "markdown",
   "metadata": {},
   "source": [
    "## Making a dropout model"
   ]
  },
  {
   "cell_type": "markdown",
   "metadata": {},
   "source": [
    "I have made a model with 3 hidden layers outputting to a distribution layer. Before every activation function (except the final one) I have placed a dropout layer. I used the functional API to enable dropout during testing and to have more flexibility than when simply using a sequential API."
   ]
  },
  {
   "cell_type": "code",
   "execution_count": 20,
   "metadata": {},
   "outputs": [
    {
     "name": "stdout",
     "output_type": "stream",
     "text": [
      "Model: \"model_6\"\n",
      "_________________________________________________________________\n",
      "Layer (type)                 Output Shape              Param #   \n",
      "=================================================================\n",
      "input_7 (InputLayer)         [(None, 1)]               0         \n",
      "_________________________________________________________________\n",
      "dropout_13 (Dropout)         (None, 1)                 0         \n",
      "_________________________________________________________________\n",
      "dense_14 (Dense)             (None, 500)               1000      \n",
      "_________________________________________________________________\n",
      "elu_12 (ELU)                 (None, 500)               0         \n",
      "_________________________________________________________________\n",
      "dropout_14 (Dropout)         (None, 500)               0         \n",
      "_________________________________________________________________\n",
      "elu_13 (ELU)                 (None, 500)               0         \n",
      "_________________________________________________________________\n",
      "dense_15 (Dense)             (None, 1)                 501       \n",
      "=================================================================\n",
      "Total params: 1,501\n",
      "Trainable params: 1,501\n",
      "Non-trainable params: 0\n",
      "_________________________________________________________________\n"
     ]
    }
   ],
   "source": [
    "inputs = tf.keras.Input(shape=1)\n",
    "c1= layers.Dense(200)(inputs)\n",
    "a1=tf.keras.layers.ELU(alpha=1.0)(c1)\n",
    "d1=layers.Dropout(0.1)(a1,training=True)\n",
    "c2= layers.Dense(200)(d1)\n",
    "a2=tf.keras.layers.ELU(alpha=1.0)(c2)\n",
    "d2=layers.Dropout(0.1)(a2,training=True)\n",
    "c3=layers.Dense(2)(d2)\n",
    "d3=layers.Dropout(0.0)(c3,training=True) #There is a dropout layer but it is turned of!\n",
    "o=tfp.layers.DistributionLambda(\n",
    "      lambda t: tfd.Normal(loc=t[..., :1],\n",
    "                           scale=1e-3 + tf.math.softplus(0.05 * t[...,1:])))(d3) #The scale is stdev!!\n",
    "#outputs=layers.Activation('softmax')(c2)\n",
    "modeld2= tf.keras.Model(inputs, o)\n",
    "modeld2.summary()"
   ]
  },
  {
   "cell_type": "code",
   "execution_count": 21,
   "metadata": {},
   "outputs": [],
   "source": [
    "modeld2.compile(\n",
    "    loss = 'mse',\n",
    "    optimizer=tf.optimizers.Adam(learning_rate=0.05)\n",
    ")"
   ]
  },
  {
   "cell_type": "code",
   "execution_count": 22,
   "metadata": {
    "scrolled": true
   },
   "outputs": [
    {
     "name": "stdout",
     "output_type": "stream",
     "text": [
      "Train on 80000 samples, validate on 20000 samples\n",
      "Epoch 1/20\n",
      "80000/80000 [==============================] - 0s 6us/sample - loss: 5.2330 - val_loss: 87.4836\n",
      "Epoch 2/20\n",
      "80000/80000 [==============================] - 0s 4us/sample - loss: 4.4087 - val_loss: 79.9795\n",
      "Epoch 3/20\n",
      "80000/80000 [==============================] - 0s 4us/sample - loss: 4.2718 - val_loss: 83.8765\n",
      "Epoch 4/20\n",
      "80000/80000 [==============================] - 0s 4us/sample - loss: 4.2438 - val_loss: 81.4934\n",
      "Epoch 5/20\n",
      "80000/80000 [==============================] - 0s 4us/sample - loss: 4.2381 - val_loss: 85.4520\n",
      "Epoch 6/20\n",
      "80000/80000 [==============================] - 0s 4us/sample - loss: 4.2468 - val_loss: 79.7162\n",
      "Epoch 7/20\n",
      "80000/80000 [==============================] - 0s 4us/sample - loss: 4.2385 - val_loss: 81.1253\n",
      "Epoch 8/20\n",
      "80000/80000 [==============================] - 0s 4us/sample - loss: 4.2286 - val_loss: 82.9583\n",
      "Epoch 9/20\n",
      "80000/80000 [==============================] - 0s 4us/sample - loss: 4.2287 - val_loss: 83.1382\n",
      "Epoch 10/20\n",
      "80000/80000 [==============================] - 0s 3us/sample - loss: 4.2236 - val_loss: 83.0246\n",
      "Epoch 11/20\n",
      "80000/80000 [==============================] - 0s 3us/sample - loss: 4.2251 - val_loss: 83.7556\n",
      "Epoch 12/20\n",
      "80000/80000 [==============================] - 0s 3us/sample - loss: 4.2259 - val_loss: 83.5104\n",
      "Epoch 13/20\n",
      "80000/80000 [==============================] - 0s 4us/sample - loss: 4.2242 - val_loss: 82.8748\n",
      "Epoch 14/20\n",
      "80000/80000 [==============================] - 0s 4us/sample - loss: 4.2290 - val_loss: 82.9666\n",
      "Epoch 15/20\n",
      "80000/80000 [==============================] - 0s 3us/sample - loss: 4.2282 - val_loss: 83.0454\n",
      "Epoch 16/20\n",
      "80000/80000 [==============================] - 0s 4us/sample - loss: 4.2305 - val_loss: 84.4305\n",
      "Epoch 17/20\n",
      "80000/80000 [==============================] - 0s 4us/sample - loss: 4.2268 - val_loss: 84.3019\n",
      "Epoch 18/20\n",
      "80000/80000 [==============================] - 0s 4us/sample - loss: 4.2255 - val_loss: 81.8984\n",
      "Epoch 19/20\n",
      "80000/80000 [==============================] - 0s 4us/sample - loss: 4.2263 - val_loss: 82.3854\n",
      "Epoch 20/20\n",
      "80000/80000 [==============================] - 0s 4us/sample - loss: 4.2240 - val_loss: 80.4001\n"
     ]
    },
    {
     "data": {
      "text/plain": [
       "<tensorflow.python.keras.callbacks.History at 0x1a34f01d90>"
      ]
     },
     "execution_count": 22,
     "metadata": {},
     "output_type": "execute_result"
    }
   ],
   "source": [
    "modeld2.fit(\n",
    "  Xtrain, Ytrain,\n",
    "  epochs=20, validation_split = 0.2, verbose=1,shuffle=True,batch_size=5000)"
   ]
  },
  {
   "cell_type": "markdown",
   "metadata": {},
   "source": [
    "At testing I do not actually want the entire distribution returned but rather the parameters of the distribution ($\\mu$ and $\\sigma$). In order to have this I create a new model that copies all the layers of the previous layer up intil the penultimate one."
   ]
  },
  {
   "cell_type": "code",
   "execution_count": 8,
   "metadata": {},
   "outputs": [],
   "source": [
    "modeld3=tf.keras.Model(inputs, c3)"
   ]
  },
  {
   "cell_type": "code",
   "execution_count": 9,
   "metadata": {},
   "outputs": [],
   "source": [
    "meanstd=[]\n",
    "D=1000\n",
    "Xtest=np.linspace(-2,2,333) #I make a test X set\n",
    "Ytest=y(Xtest)  #And calculate the corresponding y's without noise\n",
    "for i in range(0,D):\n",
    "    l=modeld3.predict(Xtest)\n",
    "    l[:,1]=1e-3 + tf.math.softplus(0.05 * l[:,1])\n",
    "    meanstd.append(l)\n",
    "meanss=np.mean(meanstd,axis=0) #Mean of means and stddevs\n",
    "stdvs= np.std(meanstd,axis=0)"
   ]
  },
  {
   "cell_type": "code",
   "execution_count": 10,
   "metadata": {},
   "outputs": [],
   "source": [
    "sigmatest=np.zeros(len(Xtest))\n",
    "for i in range(0,len(Xtest)):\n",
    "    sigmatest[i]=sigma(Xtest[i])"
   ]
  },
  {
   "cell_type": "code",
   "execution_count": 11,
   "metadata": {},
   "outputs": [
    {
     "data": {
      "image/png": "[encoded data removed]",
      "text/plain": [
       "<Figure size 432x288 with 1 Axes>"
      ]
     },
     "metadata": {
      "needs_background": "light"
     },
     "output_type": "display_data"
    }
   ],
   "source": [
    "plt.plot(Xtest,meanss[:,0],label='predicted mu')\n",
    "plt.plot(Xtest,Ytest, label='real mu')\n",
    "plt.plot(Xtest,sigmatest,label='real sigma')\n",
    "plt.plot(Xtest,meanss[:,1] ,label='predicted sigma')\n",
    "plt.legend()\n",
    "plt.show()"
   ]
  },
  {
   "cell_type": "code",
   "execution_count": 13,
   "metadata": {},
   "outputs": [],
   "source": [
    "N=500\n",
    "testvalue=-1\n",
    "Xnew=np.full((N,), testvalue)"
   ]
  },
  {
   "cell_type": "code",
   "execution_count": 25,
   "metadata": {},
   "outputs": [
    {
     "data": {
      "image/png": "[encoded data removed]",
      "text/plain": [
       "<Figure size 432x288 with 1 Axes>"
      ]
     },
     "metadata": {
      "needs_background": "light"
     },
     "output_type": "display_data"
    },
    {
     "name": "stdout",
     "output_type": "stream",
     "text": [
      "mean1= 2139.916 std1= 324.1118 mean2= -242.74532 std2= 311.65842\n"
     ]
    }
   ],
   "source": [
    "Z1=np.sqrt(N)*(1e-3 + tf.math.softplus(0.05 * modeld3.predict(Xnew)[:,1])-sigma(Xnew))/np.std(1e-3 + tf.math.softplus(0.05 * modeld3.predict(Xnew)[:,1]))\n",
    "Z2=np.sqrt(N)*(modeld3.predict(Xnew)[:,0]-y(testvalue))/np.std(modeld3.predict(Xnew)[:,0])\n",
    "plt.hist(Z1,label='$\\dfrac{\\sqrt{n}({\\hat{\\sigma}} -  \\sigma)}{SE(\\hat{\\sigma)}}$')\n",
    "plt.hist(Z2,alpha=0.4,label='(predicted mean- true mean)/SE(predicted mean)')\n",
    "plt.legend()\n",
    "plt.show()\n",
    "print(\"mean1=\",np.mean(Z1),'std1=',np.std(Z1),'mean2=',np.mean(Z2),'std2=',np.std(Z2))"
   ]
  },
  {
   "cell_type": "code",
   "execution_count": 29,
   "metadata": {},
   "outputs": [
    {
     "data": {
      "image/png": "[encoded data removed]",
      "text/plain": [
       "<Figure size 432x288 with 1 Axes>"
      ]
     },
     "metadata": {
      "needs_background": "light"
     },
     "output_type": "display_data"
    }
   ],
   "source": [
    "M=100\n",
    "Z=np.zeros(M)\n",
    "for i in range(0,M):\n",
    "    N=50\n",
    "    testvalue=1\n",
    "    Xnew=np.full((N,), testvalue)\n",
    "    Z[i]=np.sqrt(N)*(np.mean(modeld3.predict(Xnew)[:,0])-np.mean(y(testvalue)))/np.std(modeld3.predict(Xnew)[:,0])\n",
    "plt.hist(Z,alpha=0.4,label='(predicted mean- true mean)/SE(predicted mean)')\n",
    "plt.legend()\n",
    "plt.show()"
   ]
  },
  {
   "cell_type": "markdown",
   "metadata": {},
   "source": [
    "## A simpeler version."
   ]
  },
  {
   "cell_type": "code",
   "execution_count": 54,
   "metadata": {},
   "outputs": [
    {
     "name": "stdout",
     "output_type": "stream",
     "text": [
      "Model: \"model_11\"\n",
      "_________________________________________________________________\n",
      "Layer (type)                 Output Shape              Param #   \n",
      "=================================================================\n",
      "input_8 (InputLayer)         [(None, 1)]               0         \n",
      "_________________________________________________________________\n",
      "dense_21 (Dense)             (None, 50)                100       \n",
      "_________________________________________________________________\n",
      "dropout_19 (Dropout)         (None, 50)                0         \n",
      "_________________________________________________________________\n",
      "elu_14 (ELU)                 (None, 50)                0         \n",
      "_________________________________________________________________\n",
      "dense_22 (Dense)             (None, 30)                1530      \n",
      "_________________________________________________________________\n",
      "dropout_20 (Dropout)         (None, 30)                0         \n",
      "_________________________________________________________________\n",
      "elu_15 (ELU)                 (None, 30)                0         \n",
      "_________________________________________________________________\n",
      "dense_23 (Dense)             (None, 1)                 31        \n",
      "=================================================================\n",
      "Total params: 1,661\n",
      "Trainable params: 1,661\n",
      "Non-trainable params: 0\n",
      "_________________________________________________________________\n"
     ]
    }
   ],
   "source": [
    "inputs = tf.keras.Input(shape=1)\n",
    "c1= layers.Dense(50)(inputs)\n",
    "d1=layers.Dropout(0.3)(c1,training=True)\n",
    "a1=tf.keras.layers.ELU(alpha=1.0)(d1)\n",
    "c2= layers.Dense(30)(a1)\n",
    "d2=layers.Dropout(0.3)(c2,training=True)\n",
    "a2=tf.keras.layers.ELU(alpha=1.0)(d2)\n",
    "c3=layers.Dense(1)(a2)\n",
    "\n",
    "model4= tf.keras.Model(inputs, c3)\n",
    "model4.summary()"
   ]
  },
  {
   "cell_type": "code",
   "execution_count": 55,
   "metadata": {},
   "outputs": [],
   "source": [
    "model4.compile(\n",
    "    loss='mse',\n",
    "    optimizer=tf.optimizers.Adam(learning_rate=0.05)\n",
    ")"
   ]
  },
  {
   "cell_type": "code",
   "execution_count": 57,
   "metadata": {
    "scrolled": true
   },
   "outputs": [
    {
     "name": "stdout",
     "output_type": "stream",
     "text": [
      "Train on 90000 samples, validate on 10000 samples\n",
      "Epoch 1/20\n",
      "90000/90000 [==============================] - 0s 1us/sample - loss: 0.6682 - val_loss: 6.6738\n",
      "Epoch 2/20\n",
      "90000/90000 [==============================] - 0s 1us/sample - loss: 0.6617 - val_loss: 6.2127\n",
      "Epoch 3/20\n",
      "90000/90000 [==============================] - 0s 1us/sample - loss: 0.6627 - val_loss: 5.5398\n",
      "Epoch 4/20\n",
      "90000/90000 [==============================] - 0s 1us/sample - loss: 0.6656 - val_loss: 5.4824\n",
      "Epoch 5/20\n",
      "90000/90000 [==============================] - 0s 1us/sample - loss: 0.6413 - val_loss: 5.8487\n",
      "Epoch 6/20\n",
      "90000/90000 [==============================] - 0s 1us/sample - loss: 0.6379 - val_loss: 5.7607\n",
      "Epoch 7/20\n",
      "90000/90000 [==============================] - 0s 1us/sample - loss: 0.6283 - val_loss: 5.2915\n",
      "Epoch 8/20\n",
      "90000/90000 [==============================] - 0s 1us/sample - loss: 0.6464 - val_loss: 5.7235\n",
      "Epoch 9/20\n",
      "90000/90000 [==============================] - 0s 1us/sample - loss: 0.6363 - val_loss: 5.1850\n",
      "Epoch 10/20\n",
      "90000/90000 [==============================] - 0s 1us/sample - loss: 0.6393 - val_loss: 5.8089\n",
      "Epoch 11/20\n",
      "90000/90000 [==============================] - 0s 1us/sample - loss: 0.6279 - val_loss: 5.7212\n",
      "Epoch 12/20\n",
      "90000/90000 [==============================] - 0s 1us/sample - loss: 0.6271 - val_loss: 6.4366\n",
      "Epoch 13/20\n",
      "90000/90000 [==============================] - 0s 1us/sample - loss: 0.6156 - val_loss: 6.2747\n",
      "Epoch 14/20\n",
      "90000/90000 [==============================] - 0s 1us/sample - loss: 0.6293 - val_loss: 6.0135\n",
      "Epoch 15/20\n",
      "90000/90000 [==============================] - 0s 1us/sample - loss: 0.6230 - val_loss: 6.2290\n",
      "Epoch 16/20\n",
      "90000/90000 [==============================] - 0s 1us/sample - loss: 0.6115 - val_loss: 5.4703\n",
      "Epoch 17/20\n",
      "90000/90000 [==============================] - 0s 1us/sample - loss: 0.6145 - val_loss: 5.8114\n",
      "Epoch 18/20\n",
      "90000/90000 [==============================] - 0s 1us/sample - loss: 0.6113 - val_loss: 5.5184\n",
      "Epoch 19/20\n",
      "90000/90000 [==============================] - 0s 1us/sample - loss: 0.6371 - val_loss: 5.1239\n",
      "Epoch 20/20\n",
      "90000/90000 [==============================] - 0s 1us/sample - loss: 0.6277 - val_loss: 6.2950\n"
     ]
    },
    {
     "data": {
      "text/plain": [
       "<tensorflow.python.keras.callbacks.History at 0x1a3bba2090>"
      ]
     },
     "execution_count": 57,
     "metadata": {},
     "output_type": "execute_result"
    }
   ],
   "source": [
    "model4.fit(\n",
    "  Xtrain, Ytrain,\n",
    "  epochs=20, validation_split = 0.1, verbose=1,shuffle=True,batch_size=10000)"
   ]
  },
  {
   "cell_type": "code",
   "execution_count": 61,
   "metadata": {},
   "outputs": [
    {
     "name": "stdout",
     "output_type": "stream",
     "text": [
      "0.916\n",
      "1.0\n"
     ]
    }
   ],
   "source": [
    "N=1000 #Number of different Xi\n",
    "D=100 #number of dropout samples for every Xi\n",
    "Z=np.zeros(N)\n",
    "sigmas=np.zeros(N)\n",
    "testvalues=np.linspace(-1.0,1.0,N)\n",
    "count1=0 \n",
    "count2=0\n",
    "for i in range(0,N):\n",
    "    testvalue=testvalues[i]\n",
    "    Xnew=np.full((D,), testvalue)\n",
    "    Z[i]=(np.mean(model4.predict(Xnew)[:,0])-y(testvalue))/np.std(model4.predict(Xnew)[:,0])\n",
    "    sigmas[i]=np.std(model4.predict(Xnew)[:,0])\n",
    "    m=np.mean(model4.predict(Xnew)[:,0])\n",
    "    s=np.std(model4.predict(Xnew)[:,0])\n",
    "    t=y(testvalue)\n",
    "    if (t<(m+s) and t>(m-s)):\n",
    "        count1=count1+1\n",
    "    if (t<(m+2*s) and t>(m-2*s)):\n",
    "        count2=count2+1\n",
    "    \n",
    "print(count1/N) #The fraction of the real means in the interval predicted mean +/- std(predicted mean)\n",
    "print(count2/N) #The fraction of the real means in the interval predcited mean +/- std(predicted mean)\n",
    "#plt.hist(Z,label='(predicted mean- true mean)/SE(predicted mean)')\n",
    "#plt.legend()\n",
    "#plt.show()\n",
    "#print(\"mean=\",np.mean(Z),'std=',np.std(Z))"
   ]
  },
  {
   "cell_type": "markdown",
   "metadata": {},
   "source": [
    "$\\frac{\\hat{\\mu}-\\mu}{\\sqrt{\\mathbb V(\\hat{y_{i}})}}$"
   ]
  },
  {
   "cell_type": "code",
   "execution_count": 63,
   "metadata": {},
   "outputs": [
    {
     "data": {
      "image/png": "[encoded data removed]",
      "text/plain": [
       "<Figure size 432x288 with 1 Axes>"
      ]
     },
     "metadata": {
      "needs_background": "light"
     },
     "output_type": "display_data"
    },
    {
     "name": "stdout",
     "output_type": "stream",
     "text": [
      "mean= -0.16288824 std= 1.0973864\n"
     ]
    }
   ],
   "source": [
    "\n",
    "testvalue=1.2\n",
    "testvalue=testvalues[i]\n",
    "Xnew=np.full((100,), testvalue)\n",
    "Z=(model4.predict(Xnew)[:,0]-np.mean(model4.predict(Xnew)[:,0]))/np.std(model4.predict(Xnew)[:,0])\n",
    "plt.hist(Z,label='-')\n",
    "plt.legend()\n",
    "plt.show()\n",
    "print(\"mean=\",np.mean(Z),'std=',np.std(Z))"
   ]
  },
  {
   "cell_type": "markdown",
   "metadata": {},
   "source": [
    "$\\frac{\\hat{y_{i}}-\\bar{\\hat{y_{i}}}}{\\sqrt{\\mathbb V(\\hat{y_{i}})}}$"
   ]
  },
  {
   "cell_type": "code",
   "execution_count": 64,
   "metadata": {},
   "outputs": [],
   "source": [
    "meanvar=[]\n",
    "D=1000\n",
    "Xtest=np.linspace(-2,2,333)\n",
    "Ytest=y(Xtest)\n",
    "for i in range(0,D):\n",
    "    l=model4.predict(Xtest)\n",
    "    meanvar.append(l)\n",
    "meanss=np.mean(meanvar,axis=0) #Mean of means and variances)\n",
    "varss=np.var(meanvar,axis=0)"
   ]
  },
  {
   "cell_type": "code",
   "execution_count": 66,
   "metadata": {},
   "outputs": [
    {
     "data": {
      "image/png": "[encoded data removed]",
      "text/plain": [
       "<Figure size 432x288 with 1 Axes>"
      ]
     },
     "metadata": {
      "needs_background": "light"
     },
     "output_type": "display_data"
    }
   ],
   "source": [
    "plt.plot(Xtest,meanss[:,0],label='means predicted y')\n",
    "plt.plot(Xtest,Ytest, label='real y')\n",
    "plt.plot(Xtest,varss,label='var(predicted h)')\n",
    "plt.legend()\n",
    "plt.show()"
   ]
  },
  {
   "cell_type": "code",
   "execution_count": 105,
   "metadata": {},
   "outputs": [
    {
     "data": {
      "text/plain": [
       "0.14368644"
      ]
     },
     "execution_count": 105,
     "metadata": {},
     "output_type": "execute_result"
    }
   ],
   "source": [
    "np.std(modeld3.predict(Xnew)[:,0])"
   ]
  },
  {
   "cell_type": "code",
   "execution_count": 109,
   "metadata": {},
   "outputs": [
    {
     "data": {
      "text/plain": [
       "-0.571699"
      ]
     },
     "execution_count": 109,
     "metadata": {},
     "output_type": "execute_result"
    }
   ],
   "source": [
    "np.mean((modeld3.predict(Xnew)[:,0]))"
   ]
  },
  {
   "cell_type": "code",
   "execution_count": null,
   "metadata": {},
   "outputs": [],
   "source": []
  }
 ],
 "metadata": {
  "kernelspec": {
   "display_name": "Python 3",
   "language": "python",
   "name": "python3"
  },
  "language_info": {
   "codemirror_mode": {
    "name": "ipython",
    "version": 3
   },
   "file_extension": ".py",
   "mimetype": "text/x-python",
   "name": "python",
   "nbconvert_exporter": "python",
   "pygments_lexer": "ipython3",
   "version": "3.7.4"
  }
 },
 "nbformat": 4,
 "nbformat_minor": 2
}
