{
 "cells": [
  {
   "cell_type": "code",
   "execution_count": 1,
   "metadata": {
    "collapsed": true
   },
   "outputs": [
    {
     "name": "stdout",
     "output_type": "stream",
     "text": [
      "Collecting tensorflow==2.0.0-beta1\n",
      "  Using cached https://files.pythonhosted.org/packages/d3/c4/1f93387c61e75b3977a7ad533762f40d9b4741992bfa2ec8f13ecda0456f/tensorflow-2.0.0b1-cp37-cp37m-macosx_10_11_x86_64.whl\n",
      "Requirement already satisfied, skipping upgrade: gast>=0.2.0 in /anaconda3/envs/Tensorflow/lib/python3.7/site-packages (from tensorflow==2.0.0-beta1) (0.2.2)\n",
      "Requirement already satisfied, skipping upgrade: astor>=0.6.0 in /anaconda3/envs/Tensorflow/lib/python3.7/site-packages (from tensorflow==2.0.0-beta1) (0.7.1)\n",
      "Requirement already satisfied, skipping upgrade: absl-py>=0.7.0 in /anaconda3/envs/Tensorflow/lib/python3.7/site-packages (from tensorflow==2.0.0-beta1) (0.7.1)\n",
      "Collecting tb-nightly<1.14.0a20190604,>=1.14.0a20190603 (from tensorflow==2.0.0-beta1)\n",
      "  Using cached https://files.pythonhosted.org/packages/a4/96/571b875cd81dda9d5dfa1422a4f9d749e67c0a8d4f4f0b33a4e5f5f35e27/tb_nightly-1.14.0a20190603-py3-none-any.whl\n",
      "Requirement already satisfied, skipping upgrade: termcolor>=1.1.0 in /anaconda3/envs/Tensorflow/lib/python3.7/site-packages (from tensorflow==2.0.0-beta1) (1.1.0)\n",
      "Requirement already satisfied, skipping upgrade: keras-applications>=1.0.6 in /anaconda3/envs/Tensorflow/lib/python3.7/site-packages (from tensorflow==2.0.0-beta1) (1.0.8)\n",
      "Requirement already satisfied, skipping upgrade: wheel>=0.26 in /anaconda3/envs/Tensorflow/lib/python3.7/site-packages (from tensorflow==2.0.0-beta1) (0.33.4)\n",
      "Requirement already satisfied, skipping upgrade: six>=1.10.0 in /anaconda3/envs/Tensorflow/lib/python3.7/site-packages (from tensorflow==2.0.0-beta1) (1.12.0)\n",
      "Collecting google-pasta>=0.1.6 (from tensorflow==2.0.0-beta1)\n",
      "  Using cached https://files.pythonhosted.org/packages/d0/33/376510eb8d6246f3c30545f416b2263eee461e40940c2a4413c711bdf62d/google_pasta-0.1.7-py3-none-any.whl\n",
      "Requirement already satisfied, skipping upgrade: protobuf>=3.6.1 in /anaconda3/envs/Tensorflow/lib/python3.7/site-packages (from tensorflow==2.0.0-beta1) (3.8.0)\n",
      "Requirement already satisfied, skipping upgrade: wrapt>=1.11.1 in /anaconda3/envs/Tensorflow/lib/python3.7/site-packages (from tensorflow==2.0.0-beta1) (1.11.2)\n",
      "Requirement already satisfied, skipping upgrade: keras-preprocessing>=1.0.5 in /anaconda3/envs/Tensorflow/lib/python3.7/site-packages (from tensorflow==2.0.0-beta1) (1.1.0)\n",
      "Requirement already satisfied, skipping upgrade: grpcio>=1.8.6 in /anaconda3/envs/Tensorflow/lib/python3.7/site-packages (from tensorflow==2.0.0-beta1) (1.16.1)\n",
      "Requirement already satisfied, skipping upgrade: numpy<2.0,>=1.14.5 in /anaconda3/envs/Tensorflow/lib/python3.7/site-packages (from tensorflow==2.0.0-beta1) (1.16.3)\n",
      "Collecting tf-estimator-nightly<1.14.0.dev2019060502,>=1.14.0.dev2019060501 (from tensorflow==2.0.0-beta1)\n",
      "  Using cached https://files.pythonhosted.org/packages/32/dd/99c47dd007dcf10d63fd895611b063732646f23059c618a373e85019eb0e/tf_estimator_nightly-1.14.0.dev2019060501-py2.py3-none-any.whl\n",
      "Requirement already satisfied, skipping upgrade: werkzeug>=0.11.15 in /anaconda3/envs/Tensorflow/lib/python3.7/site-packages (from tb-nightly<1.14.0a20190604,>=1.14.0a20190603->tensorflow==2.0.0-beta1) (0.15.4)\n",
      "Requirement already satisfied, skipping upgrade: markdown>=2.6.8 in /anaconda3/envs/Tensorflow/lib/python3.7/site-packages (from tb-nightly<1.14.0a20190604,>=1.14.0a20190603->tensorflow==2.0.0-beta1) (3.1.1)\n",
      "Requirement already satisfied, skipping upgrade: setuptools>=41.0.0 in /anaconda3/envs/Tensorflow/lib/python3.7/site-packages (from tb-nightly<1.14.0a20190604,>=1.14.0a20190603->tensorflow==2.0.0-beta1) (41.0.1)\n",
      "Requirement already satisfied, skipping upgrade: h5py in /anaconda3/envs/Tensorflow/lib/python3.7/site-packages (from keras-applications>=1.0.6->tensorflow==2.0.0-beta1) (2.9.0)\n",
      "Installing collected packages: tb-nightly, google-pasta, tf-estimator-nightly, tensorflow\n",
      "  Found existing installation: tensorflow 1.13.1\n",
      "    Uninstalling tensorflow-1.13.1:\n",
      "      Successfully uninstalled tensorflow-1.13.1\n",
      "Successfully installed google-pasta-0.1.7 tb-nightly-1.14.0a20190603 tensorflow-2.0.0b1 tf-estimator-nightly-1.14.0.dev2019060501\n",
      "Note: you may need to restart the kernel to use updated packages.\n"
     ]
    }
   ],
   "source": [
    "pip install --upgrade tensorflow==2.0.0-beta1"
   ]
  },
  {
   "cell_type": "code",
   "execution_count": 3,
   "metadata": {
    "scrolled": true
   },
   "outputs": [
    {
     "name": "stdout",
     "output_type": "stream",
     "text": [
      "tensorflow version 2.0.0-beta1\n"
     ]
    }
   ],
   "source": [
    "print('tensorflow version', tf.__version__)"
   ]
  },
  {
   "cell_type": "markdown",
   "metadata": {
    "heading_collapsed": true
   },
   "source": [
    "# Importing"
   ]
  },
  {
   "cell_type": "code",
   "execution_count": 1,
   "metadata": {
    "hidden": true
   },
   "outputs": [
    {
     "name": "stderr",
     "output_type": "stream",
     "text": [
      "Using TensorFlow backend.\n"
     ]
    }
   ],
   "source": [
    "import tensorflow as tf\n",
    "from keras.datasets import mnist\n",
    "from matplotlib import pyplot as plt\n",
    "import keras\n",
    "from keras.models import Sequential\n",
    "import numpy\n",
    "from keras.layers import Dense, Flatten, Activation, Dropout\n",
    "from keras.utils import normalize, to_categorical"
   ]
  },
  {
   "cell_type": "code",
   "execution_count": 15,
   "metadata": {
    "hidden": true
   },
   "outputs": [],
   "source": [
    "from tensorflow.keras import layers\n",
    "from tensorflow.keras import backend as K"
   ]
  },
  {
   "cell_type": "code",
   "execution_count": 16,
   "metadata": {
    "hidden": true
   },
   "outputs": [],
   "source": [
    "(X_train, y_train), (X_test, y_test) = mnist.load_data()"
   ]
  },
  {
   "cell_type": "code",
   "execution_count": 120,
   "metadata": {
    "collapsed": true,
    "hidden": true
   },
   "outputs": [
    {
     "data": {
      "image/png": "[encoded data removed]",
      "text/plain": [
       "<Figure size 432x288 with 1 Axes>"
      ]
     },
     "metadata": {
      "needs_background": "light"
     },
     "output_type": "display_data"
    }
   ],
   "source": [
    "plt.imshow(X_test[1], cmap = plt.cm.binary)\n",
    "plt.show()"
   ]
  },
  {
   "cell_type": "code",
   "execution_count": 17,
   "metadata": {
    "hidden": true
   },
   "outputs": [],
   "source": [
    "X_train = normalize(X_train, axis=1)\n",
    "X_test = normalize(X_test, axis=1)\n",
    "y_train = to_categorical(y_train)\n",
    "y_test = to_categorical(y_test)"
   ]
  },
  {
   "cell_type": "markdown",
   "metadata": {
    "heading_collapsed": true
   },
   "source": [
    "# Building a simple network"
   ]
  },
  {
   "cell_type": "code",
   "execution_count": 6,
   "metadata": {
    "collapsed": true,
    "hidden": true
   },
   "outputs": [
    {
     "name": "stdout",
     "output_type": "stream",
     "text": [
      "Model: \"sequential\"\n",
      "_________________________________________________________________\n",
      "Layer (type)                 Output Shape              Param #   \n",
      "=================================================================\n",
      "flatten (Flatten)            (None, 784)               0         \n",
      "_________________________________________________________________\n",
      "dense (Dense)                (None, 128)               100480    \n",
      "_________________________________________________________________\n",
      "elu (ELU)                    (None, 128)               0         \n",
      "_________________________________________________________________\n",
      "dense_1 (Dense)              (None, 128)               16512     \n",
      "_________________________________________________________________\n",
      "dense_2 (Dense)              (None, 10)                1290      \n",
      "_________________________________________________________________\n",
      "activation (Activation)      (None, 10)                0         \n",
      "=================================================================\n",
      "Total params: 118,282\n",
      "Trainable params: 118,282\n",
      "Non-trainable params: 0\n",
      "_________________________________________________________________\n"
     ]
    }
   ],
   "source": [
    "ELU=tf.keras.layers.ELU(alpha=1.0)\n",
    "model = tf.keras.Sequential()\n",
    "model.add(layers.Flatten(input_shape=(28, 28)))\n",
    "model.add(layers.Dense(128))\n",
    "model.add(ELU)\n",
    "model.add(layers.Dense(128))\n",
    "model.add(ELU)\n",
    "model.add(layers.Dense(10))\n",
    "model.add(layers.Activation('softmax'))\n",
    "model.summary()"
   ]
  },
  {
   "cell_type": "code",
   "execution_count": 7,
   "metadata": {
    "hidden": true
   },
   "outputs": [],
   "source": [
    "model.compile(\n",
    "    loss='categorical_crossentropy',\n",
    "    optimizer='adam',\n",
    "    metrics=['accuracy']\n",
    ")"
   ]
  },
  {
   "cell_type": "code",
   "execution_count": 8,
   "metadata": {
    "collapsed": true,
    "hidden": true
   },
   "outputs": [
    {
     "name": "stderr",
     "output_type": "stream",
     "text": [
      "WARNING: Logging before flag parsing goes to stderr.\n",
      "W0720 12:46:37.436914 4561479104 deprecation.py:323] From /anaconda3/envs/Tensorflow/lib/python3.7/site-packages/tensorflow/python/ops/math_grad.py:1250: add_dispatch_support.<locals>.wrapper (from tensorflow.python.ops.array_ops) is deprecated and will be removed in a future version.\n",
      "Instructions for updating:\n",
      "Use tf.where in 2.0, which has the same broadcast rule as np.where\n"
     ]
    },
    {
     "name": "stdout",
     "output_type": "stream",
     "text": [
      "Train on 54000 samples, validate on 6000 samples\n",
      "Epoch 1/10\n",
      "54000/54000 [==============================] - 3s 46us/sample - loss: 0.3248 - accuracy: 0.9035 - val_loss: 0.1644 - val_accuracy: 0.9517\n",
      "Epoch 2/10\n",
      "54000/54000 [==============================] - 2s 37us/sample - loss: 0.1636 - accuracy: 0.9497 - val_loss: 0.1169 - val_accuracy: 0.9653\n",
      "Epoch 3/10\n",
      "54000/54000 [==============================] - 2s 37us/sample - loss: 0.1141 - accuracy: 0.9646 - val_loss: 0.1125 - val_accuracy: 0.9683\n",
      "Epoch 4/10\n",
      "54000/54000 [==============================] - 2s 38us/sample - loss: 0.0862 - accuracy: 0.9733 - val_loss: 0.0967 - val_accuracy: 0.9710\n",
      "Epoch 5/10\n",
      "54000/54000 [==============================] - 2s 37us/sample - loss: 0.0690 - accuracy: 0.9784 - val_loss: 0.0876 - val_accuracy: 0.9725\n",
      "Epoch 6/10\n",
      "54000/54000 [==============================] - 2s 37us/sample - loss: 0.0548 - accuracy: 0.9822 - val_loss: 0.0853 - val_accuracy: 0.9773\n",
      "Epoch 7/10\n",
      "54000/54000 [==============================] - 2s 40us/sample - loss: 0.0457 - accuracy: 0.9851 - val_loss: 0.0940 - val_accuracy: 0.9732\n",
      "Epoch 8/10\n",
      "54000/54000 [==============================] - 2s 38us/sample - loss: 0.0377 - accuracy: 0.9875 - val_loss: 0.0928 - val_accuracy: 0.9758\n",
      "Epoch 9/10\n",
      "54000/54000 [==============================] - 2s 40us/sample - loss: 0.0298 - accuracy: 0.9900 - val_loss: 0.0846 - val_accuracy: 0.9762\n",
      "Epoch 10/10\n",
      "54000/54000 [==============================] - 2s 38us/sample - loss: 0.0263 - accuracy: 0.9904 - val_loss: 0.1003 - val_accuracy: 0.9720\n"
     ]
    }
   ],
   "source": [
    "history = model.fit(\n",
    "    X_train,\n",
    "    y_train,\n",
    "    epochs=10,\n",
    "    batch_size=32,\n",
    "    validation_split=0.1\n",
    ")"
   ]
  },
  {
   "cell_type": "code",
   "execution_count": 9,
   "metadata": {
    "collapsed": true,
    "hidden": true
   },
   "outputs": [
    {
     "data": {
      "image/png": "[encoded data removed]",
      "text/plain": [
       "<Figure size 432x288 with 1 Axes>"
      ]
     },
     "metadata": {
      "needs_background": "light"
     },
     "output_type": "display_data"
    }
   ],
   "source": [
    "loss = history.history['loss']\n",
    "val_loss = history.history['val_loss']\n",
    "epochs = range(1, len(loss) + 1)\n",
    "plt.plot(epochs, loss, 'y', label='Training loss')\n",
    "plt.plot(epochs, val_loss, 'r', label='Validation loss')\n",
    "plt.title('Training and validation loss')\n",
    "plt.xlabel('Epochs')\n",
    "plt.ylabel('Loss')\n",
    "plt.legend()\n",
    "plt.show()"
   ]
  },
  {
   "cell_type": "code",
   "execution_count": 12,
   "metadata": {
    "collapsed": true,
    "hidden": true
   },
   "outputs": [
    {
     "data": {
      "image/png": "[encoded data removed]",
      "text/plain": [
       "<Figure size 432x288 with 1 Axes>"
      ]
     },
     "metadata": {
      "needs_background": "light"
     },
     "output_type": "display_data"
    }
   ],
   "source": [
    "acc = history.history['accuracy']\n",
    "val_acc = history.history['val_accuracy']\n",
    "plt.plot(epochs, acc, 'y', label='Training acc')\n",
    "plt.plot(epochs, val_acc, 'r', label='Validation acc')\n",
    "plt.title('Training and validation accuracy')\n",
    "plt.xlabel('Epochs')\n",
    "plt.ylabel('Accuracy')\n",
    "plt.legend()\n",
    "plt.show()"
   ]
  },
  {
   "cell_type": "code",
   "execution_count": 13,
   "metadata": {
    "hidden": true,
    "scrolled": true
   },
   "outputs": [
    {
     "name": "stdout",
     "output_type": "stream",
     "text": [
      "10000/10000 [==============================] - 0s 27us/sample - loss: 0.1169 - accuracy: 0.9696\n"
     ]
    },
    {
     "data": {
      "text/plain": [
       "0.9696"
      ]
     },
     "execution_count": 13,
     "metadata": {},
     "output_type": "execute_result"
    }
   ],
   "source": [
    "test_loss, test_acc = model.evaluate(X_test, y_test)\n",
    "test_acc"
   ]
  },
  {
   "cell_type": "markdown",
   "metadata": {
    "heading_collapsed": true
   },
   "source": [
    "# Implementing dropout"
   ]
  },
  {
   "cell_type": "code",
   "execution_count": 126,
   "metadata": {
    "collapsed": true,
    "hidden": true
   },
   "outputs": [
    {
     "name": "stdout",
     "output_type": "stream",
     "text": [
      "Model: \"model_3\"\n",
      "_________________________________________________________________\n",
      "Layer (type)                 Output Shape              Param #   \n",
      "=================================================================\n",
      "input_8 (InputLayer)         [(None, 28, 28)]          0         \n",
      "_________________________________________________________________\n",
      "flatten_16 (Flatten)         (None, 784)               0         \n",
      "_________________________________________________________________\n",
      "dropout_13 (Dropout)         (None, 784)               0         \n",
      "_________________________________________________________________\n",
      "dense_22 (Dense)             (None, 128)               100480    \n",
      "_________________________________________________________________\n",
      "elu_6 (ELU)                  (None, 128)               0         \n",
      "_________________________________________________________________\n",
      "dense_23 (Dense)             (None, 128)               16512     \n",
      "_________________________________________________________________\n",
      "dropout_15 (Dropout)         (None, 128)               0         \n",
      "_________________________________________________________________\n",
      "elu_7 (ELU)                  (None, 128)               0         \n",
      "_________________________________________________________________\n",
      "dense_24 (Dense)             (None, 10)                1290      \n",
      "_________________________________________________________________\n",
      "activation_4 (Activation)    (None, 10)                0         \n",
      "=================================================================\n",
      "Total params: 118,282\n",
      "Trainable params: 118,282\n",
      "Non-trainable params: 0\n",
      "_________________________________________________________________\n"
     ]
    }
   ],
   "source": [
    "inputs = tf.keras.Input(shape=(28,28))\n",
    "i = layers.Flatten(input_shape=(28, 28))(inputs)\n",
    "d0=layers.Dropout(0.5)(i,training=True)\n",
    "c1= layers.Dense(128)(d0)\n",
    "d1=layers.Dropout(0.5)(c1,training=True)\n",
    "a1=tf.keras.layers.ELU(alpha=1.0)(c1)\n",
    "c2=layers.Dense(128)(a1)\n",
    "d2=layers.Dropout(0.5)(c2,training=True)\n",
    "a2=tf.keras.layers.ELU(alpha=1.0)(d2)\n",
    "c2=layers.Dense(10)(a2)\n",
    "outputs=layers.Activation('softmax')(c2)\n",
    "model_dropout = tf.keras.Model(inputs, outputs)\n",
    "model_dropout.summary()"
   ]
  },
  {
   "cell_type": "code",
   "execution_count": 127,
   "metadata": {
    "hidden": true
   },
   "outputs": [],
   "source": [
    "model_dropout.compile(\n",
    "    loss='categorical_crossentropy',\n",
    "    optimizer='adam',\n",
    "    metrics=['accuracy']\n",
    ")"
   ]
  },
  {
   "cell_type": "code",
   "execution_count": 128,
   "metadata": {
    "collapsed": true,
    "hidden": true
   },
   "outputs": [
    {
     "name": "stdout",
     "output_type": "stream",
     "text": [
      "Train on 54000 samples, validate on 6000 samples\n",
      "Epoch 1/10\n",
      "54000/54000 [==============================] - 3s 61us/sample - loss: 0.5561 - accuracy: 0.8268 - val_loss: 0.3472 - val_accuracy: 0.8943\n",
      "Epoch 2/10\n",
      "54000/54000 [==============================] - 2s 42us/sample - loss: 0.3716 - accuracy: 0.8841 - val_loss: 0.2848 - val_accuracy: 0.9070\n",
      "Epoch 3/10\n",
      "54000/54000 [==============================] - 2s 43us/sample - loss: 0.3055 - accuracy: 0.9039 - val_loss: 0.2482 - val_accuracy: 0.9208\n",
      "Epoch 4/10\n",
      "54000/54000 [==============================] - 2s 42us/sample - loss: 0.2661 - accuracy: 0.9166 - val_loss: 0.2368 - val_accuracy: 0.9237\n",
      "Epoch 5/10\n",
      "54000/54000 [==============================] - 2s 42us/sample - loss: 0.2449 - accuracy: 0.9231 - val_loss: 0.1979 - val_accuracy: 0.9403\n",
      "Epoch 6/10\n",
      "54000/54000 [==============================] - 2s 42us/sample - loss: 0.2196 - accuracy: 0.9314 - val_loss: 0.1872 - val_accuracy: 0.9413\n",
      "Epoch 7/10\n",
      "54000/54000 [==============================] - 2s 42us/sample - loss: 0.2048 - accuracy: 0.9359 - val_loss: 0.1736 - val_accuracy: 0.9435\n",
      "Epoch 8/10\n",
      "54000/54000 [==============================] - 2s 42us/sample - loss: 0.1918 - accuracy: 0.9407 - val_loss: 0.1681 - val_accuracy: 0.9505\n",
      "Epoch 9/10\n",
      "54000/54000 [==============================] - 2s 43us/sample - loss: 0.1808 - accuracy: 0.9431 - val_loss: 0.1725 - val_accuracy: 0.9475\n",
      "Epoch 10/10\n",
      "54000/54000 [==============================] - 2s 46us/sample - loss: 0.1716 - accuracy: 0.9458 - val_loss: 0.1595 - val_accuracy: 0.9505\n"
     ]
    }
   ],
   "source": [
    "history_dropout = model_dropout.fit(\n",
    "    X_train,\n",
    "    y_train,\n",
    "    epochs=10,\n",
    "    batch_size=32,\n",
    "    validation_split=0.1,\n",
    "    verbose = 1,\n",
    "    shuffle=True\n",
    ")"
   ]
  },
  {
   "cell_type": "code",
   "execution_count": 129,
   "metadata": {
    "collapsed": true,
    "hidden": true
   },
   "outputs": [
    {
     "data": {
      "image/png": "[encoded data removed]",
      "text/plain": [
       "<Figure size 432x288 with 1 Axes>"
      ]
     },
     "metadata": {
      "needs_background": "light"
     },
     "output_type": "display_data"
    }
   ],
   "source": [
    "loss = history_dropout.history['loss']\n",
    "val_loss = history_dropout.history['val_loss']\n",
    "epochs = range(1, len(loss) + 1)\n",
    "plt.plot(epochs, loss, 'y', label='Training loss')\n",
    "plt.plot(epochs, val_loss, 'r', label='Validation loss')\n",
    "plt.title('Training and validation loss')\n",
    "plt.xlabel('Epochs')\n",
    "plt.ylabel('Loss')\n",
    "plt.legend()\n",
    "plt.show()"
   ]
  },
  {
   "cell_type": "code",
   "execution_count": 130,
   "metadata": {
    "collapsed": true,
    "hidden": true
   },
   "outputs": [
    {
     "data": {
      "image/png": "[encoded data removed]",
      "text/plain": [
       "<Figure size 432x288 with 1 Axes>"
      ]
     },
     "metadata": {
      "needs_background": "light"
     },
     "output_type": "display_data"
    }
   ],
   "source": [
    "acc = history_dropout.history['accuracy']\n",
    "val_acc = history_dropout.history['val_accuracy']\n",
    "plt.plot(epochs, acc, 'y', label='Training acc')\n",
    "plt.plot(epochs, val_acc, 'r', label='Validation acc')\n",
    "plt.title('Training and validation accuracy')\n",
    "plt.xlabel('Epochs')\n",
    "plt.ylabel('Accuracy')\n",
    "plt.legend()\n",
    "plt.show()"
   ]
  },
  {
   "cell_type": "code",
   "execution_count": 131,
   "metadata": {
    "hidden": true,
    "scrolled": true
   },
   "outputs": [
    {
     "name": "stdout",
     "output_type": "stream",
     "text": [
      "10000/10000 [==============================] - 0s 27us/sample - loss: 0.1818 - accuracy: 0.9430\n"
     ]
    },
    {
     "data": {
      "text/plain": [
       "0.943"
      ]
     },
     "execution_count": 131,
     "metadata": {},
     "output_type": "execute_result"
    }
   ],
   "source": [
    "test_loss, test_acc = model_dropout.evaluate(X_test, y_test)\n",
    "test_acc"
   ]
  },
  {
   "cell_type": "code",
   "execution_count": 132,
   "metadata": {
    "hidden": true
   },
   "outputs": [],
   "source": [
    "B=100\n",
    "a=model_dropout.predict(X_test)\n",
    "d=[]\n",
    "for i in range(1,B):\n",
    "    l=model_dropout.predict(X_test)\n",
    "    d.append(l)"
   ]
  },
  {
   "cell_type": "code",
   "execution_count": 133,
   "metadata": {
    "hidden": true
   },
   "outputs": [],
   "source": [
    "mean=np.average(d,axis=0)\n",
    "var=np.var(d,axis=0)"
   ]
  },
  {
   "cell_type": "code",
   "execution_count": 137,
   "metadata": {
    "collapsed": true,
    "hidden": true
   },
   "outputs": [
    {
     "name": "stdout",
     "output_type": "stream",
     "text": [
      "[2.29905072e-06 9.99253690e-01 1.51207598e-04 1.11809313e-04\n",
      " 5.68295909e-05 3.13212004e-05 8.02452778e-05 2.08543293e-04\n",
      " 9.22213294e-05 1.18755215e-05] [9.3342996e-06 1.7378975e-03 5.5662630e-04 3.1201853e-04 1.3813423e-04\n",
      " 1.8820746e-04 4.3344521e-04 7.4818160e-04 2.6112338e-04 5.9123649e-05]\n"
     ]
    },
    {
     "data": {
      "image/png": "[encoded data removed]",
      "text/plain": [
       "<Figure size 432x288 with 1 Axes>"
      ]
     },
     "metadata": {
      "needs_background": "light"
     },
     "output_type": "display_data"
    }
   ],
   "source": [
    "print(mean[2],np.sqrt(var[2]))\n",
    "plt.imshow(X_test[2], cmap = plt.cm.binary)\n",
    "plt.show()"
   ]
  },
  {
   "cell_type": "markdown",
   "metadata": {
    "heading_collapsed": true
   },
   "source": [
    "# Fixing softmax"
   ]
  },
  {
   "cell_type": "markdown",
   "metadata": {
    "hidden": true
   },
   "source": [
    "## Importing stuff"
   ]
  },
  {
   "cell_type": "code",
   "execution_count": 4,
   "metadata": {
    "hidden": true
   },
   "outputs": [],
   "source": [
    "import tensorflow as tf\n",
    "import tensorflow_probability as tfp\n",
    "import matplotlib.pyplot as plt\n",
    "import tensorflow_datasets as tfds\n",
    "from keras import losses\n",
    "import numpy as np\n",
    "import matplotlib.pyplot as plt\n",
    "import pandas as pd\n",
    "import seaborn as sns\n",
    "from keras.models import Sequential\n",
    "import numpy\n",
    "from keras.layers import Dense, Flatten, Activation, Dropout\n",
    "from keras.utils import normalize, to_categorical\n",
    "import tensorflow as tf\n",
    "from tensorflow import keras\n",
    "from tensorflow.keras import layers\n",
    "import os\n",
    "\n",
    "tfd = tfp.distributions\n",
    "tfpl = tfp.layers\n",
    "tfk = tf.keras\n",
    "tfkl = tf.keras.layers"
   ]
  },
  {
   "cell_type": "markdown",
   "metadata": {
    "hidden": true
   },
   "source": [
    "## Using a mulitomial distribution"
   ]
  },
  {
   "cell_type": "code",
   "execution_count": 308,
   "metadata": {
    "hidden": true,
    "scrolled": true
   },
   "outputs": [
    {
     "name": "stdout",
     "output_type": "stream",
     "text": [
      "Model: \"sequential_50\"\n",
      "_________________________________________________________________\n",
      "Layer (type)                 Output Shape              Param #   \n",
      "=================================================================\n",
      "flatten_50 (Flatten)         (None, 784)               0         \n",
      "_________________________________________________________________\n",
      "dense_150 (Dense)            (None, 128)               100480    \n",
      "_________________________________________________________________\n",
      "elu_50 (ELU)                 (None, 128)               0         \n",
      "_________________________________________________________________\n",
      "dense_151 (Dense)            (None, 128)               16512     \n",
      "_________________________________________________________________\n",
      "dense_152 (Dense)            (None, 10)                1290      \n",
      "_________________________________________________________________\n",
      "activation_50 (Activation)   (None, 10)                0         \n",
      "_________________________________________________________________\n",
      "distribution_lambda_49 (Dist ((None, 10), (None, 10))  0         \n",
      "=================================================================\n",
      "Total params: 118,282\n",
      "Trainable params: 118,282\n",
      "Non-trainable params: 0\n",
      "_________________________________________________________________\n"
     ]
    }
   ],
   "source": [
    "batch_size=100\n",
    "ELU=tf.keras.layers.ELU(alpha=1.0)\n",
    "model4 = tf.keras.Sequential()\n",
    "model4.add(layers.Flatten(input_shape=(28, 28)))\n",
    "model4.add(layers.Dense(128))\n",
    "model4.add(ELU)\n",
    "model4.add(layers.Dense(128))\n",
    "model4.add(ELU)\n",
    "model4.add(layers.Dense(10))\n",
    "model4.add(layers.Activation('softmax'))\n",
    "model4.add(tfp.layers.DistributionLambda(\n",
    "      lambda t: tfd.Multinomial(probs=t[..., 0:],total_count=1)))\n",
    "model4.summary()\n"
   ]
  },
  {
   "cell_type": "code",
   "execution_count": 309,
   "metadata": {
    "hidden": true,
    "scrolled": true
   },
   "outputs": [],
   "source": [
    "negloglik = lambda y, rv_y: -rv_y.log_prob(y)"
   ]
  },
  {
   "cell_type": "code",
   "execution_count": 310,
   "metadata": {
    "hidden": true
   },
   "outputs": [],
   "source": [
    "model4.compile(loss=negloglik,\n",
    "                optimizer='adam',\n",
    "                metrics=['mean_absolute_error', 'mean_squared_error'])"
   ]
  },
  {
   "cell_type": "code",
   "execution_count": 311,
   "metadata": {
    "hidden": true
   },
   "outputs": [
    {
     "name": "stdout",
     "output_type": "stream",
     "text": [
      "Train on 54000 samples, validate on 6000 samples\n",
      "54000/54000 [==============================] - 3s 56us/sample - loss: 0.3887 - mean_absolute_error: 0.0383 - mean_squared_error: 0.0383 - val_loss: 0.2123 - val_mean_absolute_error: 0.0224 - val_mean_squared_error: 0.0224\n"
     ]
    },
    {
     "data": {
      "text/plain": [
       "<tensorflow.python.keras.callbacks.History at 0x1a6bbcf8d0>"
      ]
     },
     "execution_count": 311,
     "metadata": {},
     "output_type": "execute_result"
    }
   ],
   "source": [
    "model4.fit(\n",
    "    X_train,\n",
    "    y_train,\n",
    "    epochs=1,\n",
    "    batch_size=batch_size,\n",
    "    validation_split=0.1\n",
    ")"
   ]
  },
  {
   "cell_type": "code",
   "execution_count": 359,
   "metadata": {
    "hidden": true
   },
   "outputs": [],
   "source": [
    "Randomoutput=model4(X_test[1:2])"
   ]
  },
  {
   "cell_type": "code",
   "execution_count": 410,
   "metadata": {
    "hidden": true,
    "scrolled": false
   },
   "outputs": [
    {
     "name": "stdout",
     "output_type": "stream",
     "text": [
      "[0.    0.001 0.989 0.003 0.    0.007 0.    0.    0.    0.   ] average outcome\n",
      "[0.009 0.029 0.106 0.057 0.    0.081 0.022 0.    0.011 0.   ] standdarddeviation\n"
     ]
    }
   ],
   "source": [
    "print(np.round(Randomoutput.mean().numpy(),3)[0],'average outcome')\n",
    "print(np.round(Randomoutput.stddev().numpy(),3)[0],'standdarddeviation')"
   ]
  },
  {
   "cell_type": "markdown",
   "metadata": {
    "heading_collapsed": true,
    "hidden": true
   },
   "source": [
    "## Using a Categorical distribution (does not work yet)"
   ]
  },
  {
   "cell_type": "code",
   "execution_count": 355,
   "metadata": {
    "hidden": true,
    "scrolled": false
   },
   "outputs": [
    {
     "ename": "TypeError",
     "evalue": "in converted code:\n\n    /anaconda3/envs/Tensorflow/lib/python3.7/site-packages/tensorflow_probability/python/layers/distribution_layer.py:211 call  *\n        distribution, value = super(DistributionLambda, self).call(\n    /anaconda3/envs/Tensorflow/lib/python3.7/site-packages/tensorflow/python/keras/layers/core.py:785 call\n        return self.function(inputs, **arguments)\n    /anaconda3/envs/Tensorflow/lib/python3.7/site-packages/tensorflow_probability/python/layers/distribution_layer.py:160 _fn\n        d = make_distribution_fn(*fargs, **fkwargs)\n    <ipython-input-355-636f908ff983>:12 <lambda>\n        lambda t: tfd.Categorical(probs=[...,t[0:10]])))\n    </anaconda3/envs/Tensorflow/lib/python3.7/site-packages/decorator.py:decorator-gen-183>:2 __init__\n        \n    /anaconda3/envs/Tensorflow/lib/python3.7/site-packages/tensorflow_probability/python/distributions/distribution.py:274 wrapped_init\n        default_init(self_, *args, **kwargs)\n    /anaconda3/envs/Tensorflow/lib/python3.7/site-packages/tensorflow_probability/python/distributions/categorical.py:189 __init__\n        name=name)\n    /anaconda3/envs/Tensorflow/lib/python3.7/site-packages/tensorflow_probability/python/internal/distribution_util.py:813 get_logits_and_probs\n        probs = tf.convert_to_tensor(value=probs, name=\"probs\", dtype=dtype)\n    /anaconda3/envs/Tensorflow/lib/python3.7/site-packages/tensorflow/python/framework/ops.py:1158 convert_to_tensor_v2\n        as_ref=False)\n    /anaconda3/envs/Tensorflow/lib/python3.7/site-packages/tensorflow/python/framework/ops.py:1237 internal_convert_to_tensor\n        ret = conversion_func(value, dtype=dtype, name=name, as_ref=as_ref)\n    /anaconda3/envs/Tensorflow/lib/python3.7/site-packages/tensorflow/python/ops/array_ops.py:1131 _autopacking_conversion_function\n        return _autopacking_helper(v, dtype, name or \"packed\")\n    /anaconda3/envs/Tensorflow/lib/python3.7/site-packages/tensorflow/python/ops/array_ops.py:1080 _autopacking_helper\n        constant_op.constant(elem, dtype=dtype, name=str(i)))\n    /anaconda3/envs/Tensorflow/lib/python3.7/site-packages/tensorflow/python/framework/constant_op.py:246 constant\n        allow_broadcast=True)\n    /anaconda3/envs/Tensorflow/lib/python3.7/site-packages/tensorflow/python/framework/constant_op.py:284 _constant_impl\n        allow_broadcast=allow_broadcast))\n    /anaconda3/envs/Tensorflow/lib/python3.7/site-packages/tensorflow/python/framework/tensor_util.py:467 make_tensor_proto\n        _AssertCompatible(values, dtype)\n    /anaconda3/envs/Tensorflow/lib/python3.7/site-packages/tensorflow/python/framework/tensor_util.py:372 _AssertCompatible\n        (dtype.name, repr(mismatch), type(mismatch).__name__))\n\n    TypeError: Expected float32, got Ellipsis of type 'ellipsis' instead.\n",
     "output_type": "error",
     "traceback": [
      "\u001b[0;31m---------------------------------------------------------------------------\u001b[0m",
      "\u001b[0;31mTypeError\u001b[0m                                 Traceback (most recent call last)",
      "\u001b[0;32m<ipython-input-355-636f908ff983>\u001b[0m in \u001b[0;36m<module>\u001b[0;34m\u001b[0m\n\u001b[1;32m     10\u001b[0m \u001b[0mmodel5\u001b[0m\u001b[0;34m.\u001b[0m\u001b[0madd\u001b[0m\u001b[0;34m(\u001b[0m\u001b[0mlayers\u001b[0m\u001b[0;34m.\u001b[0m\u001b[0mActivation\u001b[0m\u001b[0;34m(\u001b[0m\u001b[0;34m'softmax'\u001b[0m\u001b[0;34m)\u001b[0m\u001b[0;34m)\u001b[0m\u001b[0;34m\u001b[0m\u001b[0;34m\u001b[0m\u001b[0m\n\u001b[1;32m     11\u001b[0m model5.add(tfp.layers.DistributionLambda(\n\u001b[0;32m---> 12\u001b[0;31m       lambda t: tfd.Categorical(probs=[...,t[0:10]])))\n\u001b[0m\u001b[1;32m     13\u001b[0m \u001b[0mmodel5\u001b[0m\u001b[0;34m.\u001b[0m\u001b[0msummary\u001b[0m\u001b[0;34m(\u001b[0m\u001b[0;34m)\u001b[0m\u001b[0;34m\u001b[0m\u001b[0;34m\u001b[0m\u001b[0m\n\u001b[1;32m     14\u001b[0m \u001b[0;34m\u001b[0m\u001b[0m\n",
      "\u001b[0;32m/anaconda3/envs/Tensorflow/lib/python3.7/site-packages/tensorflow/python/training/tracking/base.py\u001b[0m in \u001b[0;36m_method_wrapper\u001b[0;34m(self, *args, **kwargs)\u001b[0m\n\u001b[1;32m    456\u001b[0m     \u001b[0mself\u001b[0m\u001b[0;34m.\u001b[0m\u001b[0m_self_setattr_tracking\u001b[0m \u001b[0;34m=\u001b[0m \u001b[0;32mFalse\u001b[0m  \u001b[0;31m# pylint: disable=protected-access\u001b[0m\u001b[0;34m\u001b[0m\u001b[0;34m\u001b[0m\u001b[0m\n\u001b[1;32m    457\u001b[0m     \u001b[0;32mtry\u001b[0m\u001b[0;34m:\u001b[0m\u001b[0;34m\u001b[0m\u001b[0;34m\u001b[0m\u001b[0m\n\u001b[0;32m--> 458\u001b[0;31m       \u001b[0mresult\u001b[0m \u001b[0;34m=\u001b[0m \u001b[0mmethod\u001b[0m\u001b[0;34m(\u001b[0m\u001b[0mself\u001b[0m\u001b[0;34m,\u001b[0m \u001b[0;34m*\u001b[0m\u001b[0margs\u001b[0m\u001b[0;34m,\u001b[0m \u001b[0;34m**\u001b[0m\u001b[0mkwargs\u001b[0m\u001b[0;34m)\u001b[0m\u001b[0;34m\u001b[0m\u001b[0;34m\u001b[0m\u001b[0m\n\u001b[0m\u001b[1;32m    459\u001b[0m     \u001b[0;32mfinally\u001b[0m\u001b[0;34m:\u001b[0m\u001b[0;34m\u001b[0m\u001b[0;34m\u001b[0m\u001b[0m\n\u001b[1;32m    460\u001b[0m       \u001b[0mself\u001b[0m\u001b[0;34m.\u001b[0m\u001b[0m_self_setattr_tracking\u001b[0m \u001b[0;34m=\u001b[0m \u001b[0mprevious_value\u001b[0m  \u001b[0;31m# pylint: disable=protected-access\u001b[0m\u001b[0;34m\u001b[0m\u001b[0;34m\u001b[0m\u001b[0m\n",
      "\u001b[0;32m/anaconda3/envs/Tensorflow/lib/python3.7/site-packages/tensorflow/python/keras/engine/sequential.py\u001b[0m in \u001b[0;36madd\u001b[0;34m(self, layer)\u001b[0m\n\u001b[1;32m    191\u001b[0m       \u001b[0;31m# If the model is being built continuously on top of an input layer:\u001b[0m\u001b[0;34m\u001b[0m\u001b[0;34m\u001b[0m\u001b[0;34m\u001b[0m\u001b[0m\n\u001b[1;32m    192\u001b[0m       \u001b[0;31m# refresh its output.\u001b[0m\u001b[0;34m\u001b[0m\u001b[0;34m\u001b[0m\u001b[0;34m\u001b[0m\u001b[0m\n\u001b[0;32m--> 193\u001b[0;31m       \u001b[0moutput_tensor\u001b[0m \u001b[0;34m=\u001b[0m \u001b[0mlayer\u001b[0m\u001b[0;34m(\u001b[0m\u001b[0mself\u001b[0m\u001b[0;34m.\u001b[0m\u001b[0moutputs\u001b[0m\u001b[0;34m[\u001b[0m\u001b[0;36m0\u001b[0m\u001b[0;34m]\u001b[0m\u001b[0;34m)\u001b[0m\u001b[0;34m\u001b[0m\u001b[0;34m\u001b[0m\u001b[0m\n\u001b[0m\u001b[1;32m    194\u001b[0m       \u001b[0;32mif\u001b[0m \u001b[0mlen\u001b[0m\u001b[0;34m(\u001b[0m\u001b[0mnest\u001b[0m\u001b[0;34m.\u001b[0m\u001b[0mflatten\u001b[0m\u001b[0;34m(\u001b[0m\u001b[0moutput_tensor\u001b[0m\u001b[0;34m)\u001b[0m\u001b[0;34m)\u001b[0m \u001b[0;34m!=\u001b[0m \u001b[0;36m1\u001b[0m\u001b[0;34m:\u001b[0m\u001b[0;34m\u001b[0m\u001b[0;34m\u001b[0m\u001b[0m\n\u001b[1;32m    195\u001b[0m         raise TypeError('All layers in a Sequential model '\n",
      "\u001b[0;32m/anaconda3/envs/Tensorflow/lib/python3.7/site-packages/tensorflow_probability/python/layers/distribution_layer.py\u001b[0m in \u001b[0;36m__call__\u001b[0;34m(self, inputs, *args, **kwargs)\u001b[0m\n\u001b[1;32m    204\u001b[0m     \u001b[0mself\u001b[0m\u001b[0;34m.\u001b[0m\u001b[0m_enter_dunder_call\u001b[0m \u001b[0;34m=\u001b[0m \u001b[0;32mTrue\u001b[0m\u001b[0;34m\u001b[0m\u001b[0;34m\u001b[0m\u001b[0m\n\u001b[1;32m    205\u001b[0m     distribution, _ = super(DistributionLambda, self).__call__(\n\u001b[0;32m--> 206\u001b[0;31m         inputs, *args, **kwargs)\n\u001b[0m\u001b[1;32m    207\u001b[0m     \u001b[0mself\u001b[0m\u001b[0;34m.\u001b[0m\u001b[0m_enter_dunder_call\u001b[0m \u001b[0;34m=\u001b[0m \u001b[0;32mFalse\u001b[0m\u001b[0;34m\u001b[0m\u001b[0;34m\u001b[0m\u001b[0m\n\u001b[1;32m    208\u001b[0m     \u001b[0;32mreturn\u001b[0m \u001b[0mdistribution\u001b[0m\u001b[0;34m\u001b[0m\u001b[0;34m\u001b[0m\u001b[0m\n",
      "\u001b[0;32m/anaconda3/envs/Tensorflow/lib/python3.7/site-packages/tensorflow/python/keras/engine/base_layer.py\u001b[0m in \u001b[0;36m__call__\u001b[0;34m(self, inputs, *args, **kwargs)\u001b[0m\n\u001b[1;32m    660\u001b[0m                     not base_layer_utils.is_in_eager_or_tf_function()):\n\u001b[1;32m    661\u001b[0m                   \u001b[0;32mwith\u001b[0m \u001b[0mauto_control_deps\u001b[0m\u001b[0;34m.\u001b[0m\u001b[0mAutomaticControlDependencies\u001b[0m\u001b[0;34m(\u001b[0m\u001b[0;34m)\u001b[0m \u001b[0;32mas\u001b[0m \u001b[0macd\u001b[0m\u001b[0;34m:\u001b[0m\u001b[0;34m\u001b[0m\u001b[0;34m\u001b[0m\u001b[0m\n\u001b[0;32m--> 662\u001b[0;31m                     \u001b[0moutputs\u001b[0m \u001b[0;34m=\u001b[0m \u001b[0mcall_fn\u001b[0m\u001b[0;34m(\u001b[0m\u001b[0minputs\u001b[0m\u001b[0;34m,\u001b[0m \u001b[0;34m*\u001b[0m\u001b[0margs\u001b[0m\u001b[0;34m,\u001b[0m \u001b[0;34m**\u001b[0m\u001b[0mkwargs\u001b[0m\u001b[0;34m)\u001b[0m\u001b[0;34m\u001b[0m\u001b[0;34m\u001b[0m\u001b[0m\n\u001b[0m\u001b[1;32m    663\u001b[0m                     \u001b[0;31m# Wrap Tensors in `outputs` in `tf.identity` to avoid\u001b[0m\u001b[0;34m\u001b[0m\u001b[0;34m\u001b[0m\u001b[0;34m\u001b[0m\u001b[0m\n\u001b[1;32m    664\u001b[0m                     \u001b[0;31m# circular dependencies.\u001b[0m\u001b[0;34m\u001b[0m\u001b[0;34m\u001b[0m\u001b[0;34m\u001b[0m\u001b[0m\n",
      "\u001b[0;32m/anaconda3/envs/Tensorflow/lib/python3.7/site-packages/tensorflow/python/autograph/impl/api.py\u001b[0m in \u001b[0;36mwrapper\u001b[0;34m(*args, **kwargs)\u001b[0m\n\u001b[1;32m    167\u001b[0m       \u001b[0;32mexcept\u001b[0m \u001b[0mException\u001b[0m \u001b[0;32mas\u001b[0m \u001b[0me\u001b[0m\u001b[0;34m:\u001b[0m  \u001b[0;31m# pylint:disable=broad-except\u001b[0m\u001b[0;34m\u001b[0m\u001b[0;34m\u001b[0m\u001b[0m\n\u001b[1;32m    168\u001b[0m         \u001b[0;32mif\u001b[0m \u001b[0mhasattr\u001b[0m\u001b[0;34m(\u001b[0m\u001b[0me\u001b[0m\u001b[0;34m,\u001b[0m \u001b[0;34m'ag_error_metadata'\u001b[0m\u001b[0;34m)\u001b[0m\u001b[0;34m:\u001b[0m\u001b[0;34m\u001b[0m\u001b[0;34m\u001b[0m\u001b[0m\n\u001b[0;32m--> 169\u001b[0;31m           \u001b[0;32mraise\u001b[0m \u001b[0me\u001b[0m\u001b[0;34m.\u001b[0m\u001b[0mag_error_metadata\u001b[0m\u001b[0;34m.\u001b[0m\u001b[0mto_exception\u001b[0m\u001b[0;34m(\u001b[0m\u001b[0mtype\u001b[0m\u001b[0;34m(\u001b[0m\u001b[0me\u001b[0m\u001b[0;34m)\u001b[0m\u001b[0;34m)\u001b[0m\u001b[0;34m\u001b[0m\u001b[0;34m\u001b[0m\u001b[0m\n\u001b[0m\u001b[1;32m    170\u001b[0m         \u001b[0;32melse\u001b[0m\u001b[0;34m:\u001b[0m\u001b[0;34m\u001b[0m\u001b[0;34m\u001b[0m\u001b[0m\n\u001b[1;32m    171\u001b[0m           \u001b[0;32mraise\u001b[0m\u001b[0;34m\u001b[0m\u001b[0;34m\u001b[0m\u001b[0m\n",
      "\u001b[0;31mTypeError\u001b[0m: in converted code:\n\n    /anaconda3/envs/Tensorflow/lib/python3.7/site-packages/tensorflow_probability/python/layers/distribution_layer.py:211 call  *\n        distribution, value = super(DistributionLambda, self).call(\n    /anaconda3/envs/Tensorflow/lib/python3.7/site-packages/tensorflow/python/keras/layers/core.py:785 call\n        return self.function(inputs, **arguments)\n    /anaconda3/envs/Tensorflow/lib/python3.7/site-packages/tensorflow_probability/python/layers/distribution_layer.py:160 _fn\n        d = make_distribution_fn(*fargs, **fkwargs)\n    <ipython-input-355-636f908ff983>:12 <lambda>\n        lambda t: tfd.Categorical(probs=[...,t[0:10]])))\n    </anaconda3/envs/Tensorflow/lib/python3.7/site-packages/decorator.py:decorator-gen-183>:2 __init__\n        \n    /anaconda3/envs/Tensorflow/lib/python3.7/site-packages/tensorflow_probability/python/distributions/distribution.py:274 wrapped_init\n        default_init(self_, *args, **kwargs)\n    /anaconda3/envs/Tensorflow/lib/python3.7/site-packages/tensorflow_probability/python/distributions/categorical.py:189 __init__\n        name=name)\n    /anaconda3/envs/Tensorflow/lib/python3.7/site-packages/tensorflow_probability/python/internal/distribution_util.py:813 get_logits_and_probs\n        probs = tf.convert_to_tensor(value=probs, name=\"probs\", dtype=dtype)\n    /anaconda3/envs/Tensorflow/lib/python3.7/site-packages/tensorflow/python/framework/ops.py:1158 convert_to_tensor_v2\n        as_ref=False)\n    /anaconda3/envs/Tensorflow/lib/python3.7/site-packages/tensorflow/python/framework/ops.py:1237 internal_convert_to_tensor\n        ret = conversion_func(value, dtype=dtype, name=name, as_ref=as_ref)\n    /anaconda3/envs/Tensorflow/lib/python3.7/site-packages/tensorflow/python/ops/array_ops.py:1131 _autopacking_conversion_function\n        return _autopacking_helper(v, dtype, name or \"packed\")\n    /anaconda3/envs/Tensorflow/lib/python3.7/site-packages/tensorflow/python/ops/array_ops.py:1080 _autopacking_helper\n        constant_op.constant(elem, dtype=dtype, name=str(i)))\n    /anaconda3/envs/Tensorflow/lib/python3.7/site-packages/tensorflow/python/framework/constant_op.py:246 constant\n        allow_broadcast=True)\n    /anaconda3/envs/Tensorflow/lib/python3.7/site-packages/tensorflow/python/framework/constant_op.py:284 _constant_impl\n        allow_broadcast=allow_broadcast))\n    /anaconda3/envs/Tensorflow/lib/python3.7/site-packages/tensorflow/python/framework/tensor_util.py:467 make_tensor_proto\n        _AssertCompatible(values, dtype)\n    /anaconda3/envs/Tensorflow/lib/python3.7/site-packages/tensorflow/python/framework/tensor_util.py:372 _AssertCompatible\n        (dtype.name, repr(mismatch), type(mismatch).__name__))\n\n    TypeError: Expected float32, got Ellipsis of type 'ellipsis' instead.\n"
     ]
    }
   ],
   "source": [
    "batch_size=150\n",
    "ELU=tf.keras.layers.ELU(alpha=1.0)\n",
    "model5 = tf.keras.Sequential()\n",
    "model5.add(layers.Flatten(input_shape=(28, 28)))\n",
    "model5.add(layers.Dense(128))\n",
    "model5.add(ELU)\n",
    "model5.add(layers.Dense(128))\n",
    "model5.add(ELU)\n",
    "model5.add(layers.Dense(10))\n",
    "model5.add(layers.Activation('softmax'))\n",
    "model5.add(tfp.layers.DistributionLambda(\n",
    "      lambda t: tfd.Categorical(probs=[t[0:10]])))\n",
    "model5.summary()\n",
    "\n"
   ]
  },
  {
   "cell_type": "code",
   "execution_count": 348,
   "metadata": {
    "hidden": true
   },
   "outputs": [],
   "source": [
    "model5.compile(loss=negloglik,\n",
    "                optimizer='adam',\n",
    "                metrics=['mean_absolute_error', 'mean_squared_error'])"
   ]
  },
  {
   "cell_type": "code",
   "execution_count": 353,
   "metadata": {
    "hidden": true,
    "scrolled": true
   },
   "outputs": [
    {
     "name": "stdout",
     "output_type": "stream",
     "text": [
      "Train on 54000 samples, validate on 6000 samples\n",
      "Epoch 1/5\n",
      "54000/54000 [==============================] - 1s 15us/sample - loss: 0.3253 - mean_absolute_error: 0.1851 - mean_squared_error: 0.1851 - val_loss: 0.3251 - val_mean_absolute_error: 0.1641 - val_mean_squared_error: 0.1641\n",
      "Epoch 2/5\n",
      "54000/54000 [==============================] - 1s 14us/sample - loss: 0.3253 - mean_absolute_error: 0.1776 - mean_squared_error: 0.1776 - val_loss: 0.3252 - val_mean_absolute_error: 0.1744 - val_mean_squared_error: 0.1744\n",
      "Epoch 3/5\n",
      "54000/54000 [==============================] - 1s 14us/sample - loss: 0.3253 - mean_absolute_error: 0.1794 - mean_squared_error: 0.1794 - val_loss: 0.3252 - val_mean_absolute_error: 0.1598 - val_mean_squared_error: 0.1598\n",
      "Epoch 4/5\n",
      "54000/54000 [==============================] - 1s 14us/sample - loss: 0.3253 - mean_absolute_error: 0.1921 - mean_squared_error: 0.1921 - val_loss: 0.3253 - val_mean_absolute_error: 0.1770 - val_mean_squared_error: 0.1770\n",
      "Epoch 5/5\n",
      "54000/54000 [==============================] - 1s 14us/sample - loss: 0.3252 - mean_absolute_error: 0.1751 - mean_squared_error: 0.1751 - val_loss: 0.3251 - val_mean_absolute_error: 0.1804 - val_mean_squared_error: 0.1804\n"
     ]
    },
    {
     "data": {
      "text/plain": [
       "<tensorflow.python.keras.callbacks.History at 0x1a6d6f7c50>"
      ]
     },
     "execution_count": 353,
     "metadata": {},
     "output_type": "execute_result"
    }
   ],
   "source": [
    "model5.fit(\n",
    "    X_train,\n",
    "    y_train,\n",
    "    epochs=5,\n",
    "    batch_size=batch_size,\n",
    "    validation_split=0.1\n",
    ")"
   ]
  },
  {
   "cell_type": "code",
   "execution_count": null,
   "metadata": {
    "hidden": true
   },
   "outputs": [],
   "source": []
  },
  {
   "cell_type": "code",
   "execution_count": null,
   "metadata": {
    "hidden": true
   },
   "outputs": [],
   "source": []
  }
 ],
 "metadata": {
  "kernelspec": {
   "display_name": "Python 3",
   "language": "python",
   "name": "python3"
  },
  "language_info": {
   "codemirror_mode": {
    "name": "ipython",
    "version": 3
   },
   "file_extension": ".py",
   "mimetype": "text/x-python",
   "name": "python",
   "nbconvert_exporter": "python",
   "pygments_lexer": "ipython3",
   "version": "3.7.3"
  }
 },
 "nbformat": 4,
 "nbformat_minor": 2
}
