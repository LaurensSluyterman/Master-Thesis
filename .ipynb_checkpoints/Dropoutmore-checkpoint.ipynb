{
 "cells": [
  {
   "cell_type": "markdown",
   "metadata": {},
   "source": [
    "# Importing stuff"
   ]
  },
  {
   "cell_type": "code",
   "execution_count": 127,
   "metadata": {},
   "outputs": [
    {
     "name": "stdout",
     "output_type": "stream",
     "text": [
      "2.0.0-beta1\n"
     ]
    }
   ],
   "source": [
    "import tensorflow as tf\n",
    "import tensorflow_probability as tfp\n",
    "import matplotlib.pyplot as plt\n",
    "import tensorflow_datasets as tfds\n",
    "from keras import losses\n",
    "import numpy as np\n",
    "import matplotlib.pyplot as plt\n",
    "import pandas as pd\n",
    "import seaborn as sns\n",
    "from keras.models import Sequential\n",
    "import numpy\n",
    "from keras.layers import Dense, Flatten, Activation, Dropout\n",
    "from keras.utils import normalize, to_categorical\n",
    "import tensorflow as tf\n",
    "from tensorflow import keras\n",
    "from tensorflow.keras import layers\n",
    "import os\n",
    "%matplotlib inline\n",
    "\n",
    "print(tf.__version__)\n",
    "tfd = tfp.distributions\n",
    "tfpl = tfp.layers\n",
    "tfk = tf.keras\n",
    "tfkl = tf.keras.layers"
   ]
  },
  {
   "cell_type": "markdown",
   "metadata": {
    "heading_collapsed": true
   },
   "source": [
    "# Setting up tensorboard"
   ]
  },
  {
   "cell_type": "code",
   "execution_count": 2,
   "metadata": {
    "hidden": true
   },
   "outputs": [],
   "source": [
    "root_logdir = os.path.join(os.curdir, \"my_logs\")"
   ]
  },
  {
   "cell_type": "code",
   "execution_count": 3,
   "metadata": {
    "hidden": true
   },
   "outputs": [],
   "source": [
    "def get_run_logdir(): \n",
    "    import time\n",
    "    run_id = time.strftime(\"run_%Y_%m_%d-%H_%M_%S\") \n",
    "    return os.path.join(root_logdir, run_id)\n",
    "run_logdir = get_run_logdir() \n",
    "tensorboard_cb = keras.callbacks.TensorBoard(run_logdir)"
   ]
  },
  {
   "cell_type": "markdown",
   "metadata": {
    "heading_collapsed": true
   },
   "source": [
    "# Messing around with tfp stuff"
   ]
  },
  {
   "cell_type": "code",
   "execution_count": 2,
   "metadata": {
    "hidden": true
   },
   "outputs": [
    {
     "data": {
      "text/plain": [
       "<tfp.distributions.Normal 'Normal/' batch_shape=[] event_shape=[] dtype=float32>"
      ]
     },
     "execution_count": 2,
     "metadata": {},
     "output_type": "execute_result"
    }
   ],
   "source": [
    "n = tfd.Normal(loc=0., scale=1.)\n",
    "n"
   ]
  },
  {
   "cell_type": "code",
   "execution_count": 3,
   "metadata": {
    "hidden": true
   },
   "outputs": [
    {
     "data": {
      "text/plain": [
       "1.6108214"
      ]
     },
     "execution_count": 3,
     "metadata": {},
     "output_type": "execute_result"
    }
   ],
   "source": [
    "n.sample().numpy()"
   ]
  },
  {
   "cell_type": "code",
   "execution_count": 15,
   "metadata": {
    "hidden": true
   },
   "outputs": [
    {
     "data": {
      "image/png": "[encoded data removed]",
      "text/plain": [
       "<Figure size 432x288 with 1 Axes>"
      ]
     },
     "metadata": {
      "needs_background": "light"
     },
     "output_type": "display_data"
    }
   ],
   "source": [
    "x=np.linspace(-10,10,1000)\n",
    "y=np.exp(n.log_prob(x).numpy())\n",
    "plt.plot(x,y)\n",
    "plt.show()"
   ]
  },
  {
   "cell_type": "code",
   "execution_count": 16,
   "metadata": {
    "hidden": true
   },
   "outputs": [
    {
     "data": {
      "text/plain": [
       "<tfp.distributions.Bernoulli 'Bernoulli/' batch_shape=[] event_shape=[] dtype=int32>"
      ]
     },
     "execution_count": 16,
     "metadata": {},
     "output_type": "execute_result"
    }
   ],
   "source": [
    "b = tfd.Bernoulli(probs=0.7)\n",
    "b"
   ]
  },
  {
   "cell_type": "code",
   "execution_count": 24,
   "metadata": {
    "hidden": true
   },
   "outputs": [
    {
     "data": {
      "text/plain": [
       "<tf.Tensor: id=341, shape=(), dtype=int32, numpy=1>"
      ]
     },
     "execution_count": 24,
     "metadata": {},
     "output_type": "execute_result"
    }
   ],
   "source": [
    "b.sample()"
   ]
  },
  {
   "cell_type": "code",
   "execution_count": 25,
   "metadata": {
    "hidden": true,
    "scrolled": true
   },
   "outputs": [
    {
     "name": "stderr",
     "output_type": "stream",
     "text": [
      "WARNING: Logging before flag parsing goes to stderr.\n",
      "W0728 21:40:54.943908 4465960384 deprecation.py:323] From /anaconda3/envs/Tensorflow/lib/python3.7/site-packages/tensorflow/python/ops/nn_impl.py:182: add_dispatch_support.<locals>.wrapper (from tensorflow.python.ops.array_ops) is deprecated and will be removed in a future version.\n",
      "Instructions for updating:\n",
      "Use tf.where in 2.0, which has the same broadcast rule as np.where\n"
     ]
    },
    {
     "data": {
      "text/plain": [
       "0.7"
      ]
     },
     "execution_count": 25,
     "metadata": {},
     "output_type": "execute_result"
    }
   ],
   "source": [
    "np.exp(b.log_prob(1).numpy())"
   ]
  },
  {
   "cell_type": "code",
   "execution_count": 26,
   "metadata": {
    "hidden": true
   },
   "outputs": [
    {
     "data": {
      "text/plain": [
       "<tfp.distributions.MultivariateNormalDiag 'MultivariateNormalDiag/' batch_shape=[] event_shape=[2] dtype=float32>"
      ]
     },
     "execution_count": 26,
     "metadata": {},
     "output_type": "execute_result"
    }
   ],
   "source": [
    "nd = tfd.MultivariateNormalDiag(loc=[0., 10.], scale_diag=[1., 4.])\n",
    "nd"
   ]
  },
  {
   "cell_type": "code",
   "execution_count": 27,
   "metadata": {
    "hidden": true,
    "scrolled": true
   },
   "outputs": [
    {
     "data": {
      "text/plain": [
       "array([-1.2644083, 10.177029 ], dtype=float32)"
      ]
     },
     "execution_count": 27,
     "metadata": {},
     "output_type": "execute_result"
    }
   ],
   "source": [
    "nd.sample().numpy()"
   ]
  },
  {
   "cell_type": "markdown",
   "metadata": {},
   "source": [
    "# MPG example"
   ]
  },
  {
   "cell_type": "markdown",
   "metadata": {},
   "source": [
    "Most of the code in the first part of this example comes from: https://www.tensorflow.org/tutorials/keras/basic_regression. I used the methods developed by googles tensorflow probability team and adapted some of their example code. The definitions of the priors and posteriors is not my own work. The gaussian process part is also largely copied from their example codes."
   ]
  },
  {
   "cell_type": "markdown",
   "metadata": {},
   "source": [
    "## Data download and preperation"
   ]
  },
  {
   "cell_type": "markdown",
   "metadata": {},
   "source": [
    "Directly copied from the example code!"
   ]
  },
  {
   "cell_type": "markdown",
   "metadata": {},
   "source": [
    "First we download and examine a standard dataset"
   ]
  },
  {
   "cell_type": "code",
   "execution_count": 4,
   "metadata": {},
   "outputs": [
    {
     "data": {
      "text/plain": [
       "'/Users/laurens/.keras/datasets/auto-mpg.data'"
      ]
     },
     "execution_count": 4,
     "metadata": {},
     "output_type": "execute_result"
    }
   ],
   "source": [
    "dataset_path = keras.utils.get_file(\"auto-mpg.data\", \"http://archive.ics.uci.edu/ml/machine-learning-databases/auto-mpg/auto-mpg.data\")\n",
    "dataset_path"
   ]
  },
  {
   "cell_type": "code",
   "execution_count": 5,
   "metadata": {},
   "outputs": [
    {
     "data": {
      "text/html": [
       "<div>\n",
       "<style scoped>\n",
       "    .dataframe tbody tr th:only-of-type {\n",
       "        vertical-align: middle;\n",
       "    }\n",
       "\n",
       "    .dataframe tbody tr th {\n",
       "        vertical-align: top;\n",
       "    }\n",
       "\n",
       "    .dataframe thead th {\n",
       "        text-align: right;\n",
       "    }\n",
       "</style>\n",
       "<table border=\"1\" class=\"dataframe\">\n",
       "  <thead>\n",
       "    <tr style=\"text-align: right;\">\n",
       "      <th></th>\n",
       "      <th>MPG</th>\n",
       "      <th>Cylinders</th>\n",
       "      <th>Displacement</th>\n",
       "      <th>Horsepower</th>\n",
       "      <th>Weight</th>\n",
       "      <th>Acceleration</th>\n",
       "      <th>Model Year</th>\n",
       "      <th>Origin</th>\n",
       "    </tr>\n",
       "  </thead>\n",
       "  <tbody>\n",
       "    <tr>\n",
       "      <th>393</th>\n",
       "      <td>27.0</td>\n",
       "      <td>4</td>\n",
       "      <td>140.0</td>\n",
       "      <td>86.0</td>\n",
       "      <td>2790.0</td>\n",
       "      <td>15.6</td>\n",
       "      <td>82</td>\n",
       "      <td>1</td>\n",
       "    </tr>\n",
       "    <tr>\n",
       "      <th>394</th>\n",
       "      <td>44.0</td>\n",
       "      <td>4</td>\n",
       "      <td>97.0</td>\n",
       "      <td>52.0</td>\n",
       "      <td>2130.0</td>\n",
       "      <td>24.6</td>\n",
       "      <td>82</td>\n",
       "      <td>2</td>\n",
       "    </tr>\n",
       "    <tr>\n",
       "      <th>395</th>\n",
       "      <td>32.0</td>\n",
       "      <td>4</td>\n",
       "      <td>135.0</td>\n",
       "      <td>84.0</td>\n",
       "      <td>2295.0</td>\n",
       "      <td>11.6</td>\n",
       "      <td>82</td>\n",
       "      <td>1</td>\n",
       "    </tr>\n",
       "    <tr>\n",
       "      <th>396</th>\n",
       "      <td>28.0</td>\n",
       "      <td>4</td>\n",
       "      <td>120.0</td>\n",
       "      <td>79.0</td>\n",
       "      <td>2625.0</td>\n",
       "      <td>18.6</td>\n",
       "      <td>82</td>\n",
       "      <td>1</td>\n",
       "    </tr>\n",
       "    <tr>\n",
       "      <th>397</th>\n",
       "      <td>31.0</td>\n",
       "      <td>4</td>\n",
       "      <td>119.0</td>\n",
       "      <td>82.0</td>\n",
       "      <td>2720.0</td>\n",
       "      <td>19.4</td>\n",
       "      <td>82</td>\n",
       "      <td>1</td>\n",
       "    </tr>\n",
       "  </tbody>\n",
       "</table>\n",
       "</div>"
      ],
      "text/plain": [
       "      MPG  Cylinders  Displacement  Horsepower  Weight  Acceleration  \\\n",
       "393  27.0          4         140.0        86.0  2790.0          15.6   \n",
       "394  44.0          4          97.0        52.0  2130.0          24.6   \n",
       "395  32.0          4         135.0        84.0  2295.0          11.6   \n",
       "396  28.0          4         120.0        79.0  2625.0          18.6   \n",
       "397  31.0          4         119.0        82.0  2720.0          19.4   \n",
       "\n",
       "     Model Year  Origin  \n",
       "393          82       1  \n",
       "394          82       2  \n",
       "395          82       1  \n",
       "396          82       1  \n",
       "397          82       1  "
      ]
     },
     "execution_count": 5,
     "metadata": {},
     "output_type": "execute_result"
    }
   ],
   "source": [
    "column_names = ['MPG','Cylinders','Displacement','Horsepower','Weight',\n",
    "                'Acceleration', 'Model Year', 'Origin']\n",
    "raw_dataset = pd.read_csv(dataset_path, names=column_names,\n",
    "                      na_values = \"?\", comment='\\t',\n",
    "                      sep=\" \", skipinitialspace=True)\n",
    "\n",
    "dataset = raw_dataset.copy()\n",
    "dataset.tail()"
   ]
  },
  {
   "cell_type": "code",
   "execution_count": 6,
   "metadata": {},
   "outputs": [],
   "source": [
    "dataset = dataset.dropna()"
   ]
  },
  {
   "cell_type": "code",
   "execution_count": 7,
   "metadata": {},
   "outputs": [],
   "source": [
    "origin = dataset.pop('Origin')"
   ]
  },
  {
   "cell_type": "markdown",
   "metadata": {},
   "source": [
    "One hot encoding"
   ]
  },
  {
   "cell_type": "code",
   "execution_count": 8,
   "metadata": {},
   "outputs": [
    {
     "data": {
      "text/html": [
       "<div>\n",
       "<style scoped>\n",
       "    .dataframe tbody tr th:only-of-type {\n",
       "        vertical-align: middle;\n",
       "    }\n",
       "\n",
       "    .dataframe tbody tr th {\n",
       "        vertical-align: top;\n",
       "    }\n",
       "\n",
       "    .dataframe thead th {\n",
       "        text-align: right;\n",
       "    }\n",
       "</style>\n",
       "<table border=\"1\" class=\"dataframe\">\n",
       "  <thead>\n",
       "    <tr style=\"text-align: right;\">\n",
       "      <th></th>\n",
       "      <th>MPG</th>\n",
       "      <th>Cylinders</th>\n",
       "      <th>Displacement</th>\n",
       "      <th>Horsepower</th>\n",
       "      <th>Weight</th>\n",
       "      <th>Acceleration</th>\n",
       "      <th>Model Year</th>\n",
       "      <th>USA</th>\n",
       "      <th>Europe</th>\n",
       "      <th>Japan</th>\n",
       "    </tr>\n",
       "  </thead>\n",
       "  <tbody>\n",
       "    <tr>\n",
       "      <th>393</th>\n",
       "      <td>27.0</td>\n",
       "      <td>4</td>\n",
       "      <td>140.0</td>\n",
       "      <td>86.0</td>\n",
       "      <td>2790.0</td>\n",
       "      <td>15.6</td>\n",
       "      <td>82</td>\n",
       "      <td>1.0</td>\n",
       "      <td>0.0</td>\n",
       "      <td>0.0</td>\n",
       "    </tr>\n",
       "    <tr>\n",
       "      <th>394</th>\n",
       "      <td>44.0</td>\n",
       "      <td>4</td>\n",
       "      <td>97.0</td>\n",
       "      <td>52.0</td>\n",
       "      <td>2130.0</td>\n",
       "      <td>24.6</td>\n",
       "      <td>82</td>\n",
       "      <td>0.0</td>\n",
       "      <td>1.0</td>\n",
       "      <td>0.0</td>\n",
       "    </tr>\n",
       "    <tr>\n",
       "      <th>395</th>\n",
       "      <td>32.0</td>\n",
       "      <td>4</td>\n",
       "      <td>135.0</td>\n",
       "      <td>84.0</td>\n",
       "      <td>2295.0</td>\n",
       "      <td>11.6</td>\n",
       "      <td>82</td>\n",
       "      <td>1.0</td>\n",
       "      <td>0.0</td>\n",
       "      <td>0.0</td>\n",
       "    </tr>\n",
       "    <tr>\n",
       "      <th>396</th>\n",
       "      <td>28.0</td>\n",
       "      <td>4</td>\n",
       "      <td>120.0</td>\n",
       "      <td>79.0</td>\n",
       "      <td>2625.0</td>\n",
       "      <td>18.6</td>\n",
       "      <td>82</td>\n",
       "      <td>1.0</td>\n",
       "      <td>0.0</td>\n",
       "      <td>0.0</td>\n",
       "    </tr>\n",
       "    <tr>\n",
       "      <th>397</th>\n",
       "      <td>31.0</td>\n",
       "      <td>4</td>\n",
       "      <td>119.0</td>\n",
       "      <td>82.0</td>\n",
       "      <td>2720.0</td>\n",
       "      <td>19.4</td>\n",
       "      <td>82</td>\n",
       "      <td>1.0</td>\n",
       "      <td>0.0</td>\n",
       "      <td>0.0</td>\n",
       "    </tr>\n",
       "  </tbody>\n",
       "</table>\n",
       "</div>"
      ],
      "text/plain": [
       "      MPG  Cylinders  Displacement  Horsepower  Weight  Acceleration  \\\n",
       "393  27.0          4         140.0        86.0  2790.0          15.6   \n",
       "394  44.0          4          97.0        52.0  2130.0          24.6   \n",
       "395  32.0          4         135.0        84.0  2295.0          11.6   \n",
       "396  28.0          4         120.0        79.0  2625.0          18.6   \n",
       "397  31.0          4         119.0        82.0  2720.0          19.4   \n",
       "\n",
       "     Model Year  USA  Europe  Japan  \n",
       "393          82  1.0     0.0    0.0  \n",
       "394          82  0.0     1.0    0.0  \n",
       "395          82  1.0     0.0    0.0  \n",
       "396          82  1.0     0.0    0.0  \n",
       "397          82  1.0     0.0    0.0  "
      ]
     },
     "execution_count": 8,
     "metadata": {},
     "output_type": "execute_result"
    }
   ],
   "source": [
    "dataset['USA'] = (origin == 1)*1.0\n",
    "dataset['Europe'] = (origin == 2)*1.0\n",
    "dataset['Japan'] = (origin == 3)*1.0\n",
    "dataset.tail()"
   ]
  },
  {
   "cell_type": "code",
   "execution_count": 9,
   "metadata": {},
   "outputs": [],
   "source": [
    "train_dataset = dataset.sample(frac=0.8,random_state=0)\n",
    "test_dataset = dataset.drop(train_dataset.index)"
   ]
  },
  {
   "cell_type": "code",
   "execution_count": 10,
   "metadata": {},
   "outputs": [
    {
     "data": {
      "text/html": [
       "<div>\n",
       "<style scoped>\n",
       "    .dataframe tbody tr th:only-of-type {\n",
       "        vertical-align: middle;\n",
       "    }\n",
       "\n",
       "    .dataframe tbody tr th {\n",
       "        vertical-align: top;\n",
       "    }\n",
       "\n",
       "    .dataframe thead th {\n",
       "        text-align: right;\n",
       "    }\n",
       "</style>\n",
       "<table border=\"1\" class=\"dataframe\">\n",
       "  <thead>\n",
       "    <tr style=\"text-align: right;\">\n",
       "      <th></th>\n",
       "      <th>count</th>\n",
       "      <th>mean</th>\n",
       "      <th>std</th>\n",
       "      <th>min</th>\n",
       "      <th>25%</th>\n",
       "      <th>50%</th>\n",
       "      <th>75%</th>\n",
       "      <th>max</th>\n",
       "    </tr>\n",
       "  </thead>\n",
       "  <tbody>\n",
       "    <tr>\n",
       "      <th>Cylinders</th>\n",
       "      <td>314.0</td>\n",
       "      <td>5.477707</td>\n",
       "      <td>1.699788</td>\n",
       "      <td>3.0</td>\n",
       "      <td>4.00</td>\n",
       "      <td>4.0</td>\n",
       "      <td>8.00</td>\n",
       "      <td>8.0</td>\n",
       "    </tr>\n",
       "    <tr>\n",
       "      <th>Displacement</th>\n",
       "      <td>314.0</td>\n",
       "      <td>195.318471</td>\n",
       "      <td>104.331589</td>\n",
       "      <td>68.0</td>\n",
       "      <td>105.50</td>\n",
       "      <td>151.0</td>\n",
       "      <td>265.75</td>\n",
       "      <td>455.0</td>\n",
       "    </tr>\n",
       "    <tr>\n",
       "      <th>Horsepower</th>\n",
       "      <td>314.0</td>\n",
       "      <td>104.869427</td>\n",
       "      <td>38.096214</td>\n",
       "      <td>46.0</td>\n",
       "      <td>76.25</td>\n",
       "      <td>94.5</td>\n",
       "      <td>128.00</td>\n",
       "      <td>225.0</td>\n",
       "    </tr>\n",
       "    <tr>\n",
       "      <th>Weight</th>\n",
       "      <td>314.0</td>\n",
       "      <td>2990.251592</td>\n",
       "      <td>843.898596</td>\n",
       "      <td>1649.0</td>\n",
       "      <td>2256.50</td>\n",
       "      <td>2822.5</td>\n",
       "      <td>3608.00</td>\n",
       "      <td>5140.0</td>\n",
       "    </tr>\n",
       "    <tr>\n",
       "      <th>Acceleration</th>\n",
       "      <td>314.0</td>\n",
       "      <td>15.559236</td>\n",
       "      <td>2.789230</td>\n",
       "      <td>8.0</td>\n",
       "      <td>13.80</td>\n",
       "      <td>15.5</td>\n",
       "      <td>17.20</td>\n",
       "      <td>24.8</td>\n",
       "    </tr>\n",
       "    <tr>\n",
       "      <th>Model Year</th>\n",
       "      <td>314.0</td>\n",
       "      <td>75.898089</td>\n",
       "      <td>3.675642</td>\n",
       "      <td>70.0</td>\n",
       "      <td>73.00</td>\n",
       "      <td>76.0</td>\n",
       "      <td>79.00</td>\n",
       "      <td>82.0</td>\n",
       "    </tr>\n",
       "    <tr>\n",
       "      <th>USA</th>\n",
       "      <td>314.0</td>\n",
       "      <td>0.624204</td>\n",
       "      <td>0.485101</td>\n",
       "      <td>0.0</td>\n",
       "      <td>0.00</td>\n",
       "      <td>1.0</td>\n",
       "      <td>1.00</td>\n",
       "      <td>1.0</td>\n",
       "    </tr>\n",
       "    <tr>\n",
       "      <th>Europe</th>\n",
       "      <td>314.0</td>\n",
       "      <td>0.178344</td>\n",
       "      <td>0.383413</td>\n",
       "      <td>0.0</td>\n",
       "      <td>0.00</td>\n",
       "      <td>0.0</td>\n",
       "      <td>0.00</td>\n",
       "      <td>1.0</td>\n",
       "    </tr>\n",
       "    <tr>\n",
       "      <th>Japan</th>\n",
       "      <td>314.0</td>\n",
       "      <td>0.197452</td>\n",
       "      <td>0.398712</td>\n",
       "      <td>0.0</td>\n",
       "      <td>0.00</td>\n",
       "      <td>0.0</td>\n",
       "      <td>0.00</td>\n",
       "      <td>1.0</td>\n",
       "    </tr>\n",
       "  </tbody>\n",
       "</table>\n",
       "</div>"
      ],
      "text/plain": [
       "              count         mean         std     min      25%     50%  \\\n",
       "Cylinders     314.0     5.477707    1.699788     3.0     4.00     4.0   \n",
       "Displacement  314.0   195.318471  104.331589    68.0   105.50   151.0   \n",
       "Horsepower    314.0   104.869427   38.096214    46.0    76.25    94.5   \n",
       "Weight        314.0  2990.251592  843.898596  1649.0  2256.50  2822.5   \n",
       "Acceleration  314.0    15.559236    2.789230     8.0    13.80    15.5   \n",
       "Model Year    314.0    75.898089    3.675642    70.0    73.00    76.0   \n",
       "USA           314.0     0.624204    0.485101     0.0     0.00     1.0   \n",
       "Europe        314.0     0.178344    0.383413     0.0     0.00     0.0   \n",
       "Japan         314.0     0.197452    0.398712     0.0     0.00     0.0   \n",
       "\n",
       "                  75%     max  \n",
       "Cylinders        8.00     8.0  \n",
       "Displacement   265.75   455.0  \n",
       "Horsepower     128.00   225.0  \n",
       "Weight        3608.00  5140.0  \n",
       "Acceleration    17.20    24.8  \n",
       "Model Year      79.00    82.0  \n",
       "USA              1.00     1.0  \n",
       "Europe           0.00     1.0  \n",
       "Japan            0.00     1.0  "
      ]
     },
     "execution_count": 10,
     "metadata": {},
     "output_type": "execute_result"
    }
   ],
   "source": [
    "train_stats = train_dataset.describe()\n",
    "train_stats.pop(\"MPG\")\n",
    "train_stats = train_stats.transpose()\n",
    "train_stats"
   ]
  },
  {
   "cell_type": "code",
   "execution_count": 11,
   "metadata": {},
   "outputs": [],
   "source": [
    "train_labels = train_dataset.pop('MPG')\n",
    "test_labels = test_dataset.pop('MPG')"
   ]
  },
  {
   "cell_type": "code",
   "execution_count": 12,
   "metadata": {},
   "outputs": [],
   "source": [
    "def norm(x):\n",
    "  return (x - train_stats['mean']) / train_stats['std']\n",
    "normed_train_data = norm(train_dataset)\n",
    "normed_test_data = norm(test_dataset)"
   ]
  },
  {
   "cell_type": "code",
   "execution_count": 27,
   "metadata": {},
   "outputs": [],
   "source": [
    "tn=50\n",
    "example_batch = normed_test_data[:tn]"
   ]
  },
  {
   "cell_type": "code",
   "execution_count": null,
   "metadata": {},
   "outputs": [],
   "source": []
  },
  {
   "cell_type": "markdown",
   "metadata": {},
   "source": [
    "## Builing a dropout model"
   ]
  },
  {
   "cell_type": "code",
   "execution_count": 77,
   "metadata": {},
   "outputs": [],
   "source": [
    "negloglik = lambda y, rv_y: -rv_y.log_prob(y)"
   ]
  },
  {
   "cell_type": "code",
   "execution_count": 78,
   "metadata": {},
   "outputs": [],
   "source": [
    "def build_model(): #probabilistic\n",
    "  model = keras.Sequential([\n",
    "    layers.Dense(64, activation=tf.nn.relu, input_shape=[len(train_dataset.keys())]),\n",
    "    keras.layers.Dropout(rate=0.2),\n",
    "    layers.Dense(64, activation=tf.nn.relu), \n",
    "    keras.layers.Dropout(rate=0.2),\n",
    "    layers.Dense(64, activation=tf.nn.relu),\n",
    "    layers.Dense(2,name='meanvar'),\n",
    "    tfp.layers.DistributionLambda(\n",
    "      lambda t: tfd.Normal(loc=t[..., :1],\n",
    "                           scale=1e-3 + tf.math.softplus(0.05 * t[...,1:]))),\n",
    "  ])\n",
    "\n",
    "  optimizer = tf.keras.optimizers.RMSprop(0.001)\n",
    "\n",
    "  model.compile(loss=negloglik,\n",
    "                optimizer=optimizer,\n",
    "                metrics=['mean_squared_error'])\n",
    "  return model"
   ]
  },
  {
   "cell_type": "code",
   "execution_count": 79,
   "metadata": {},
   "outputs": [
    {
     "name": "stdout",
     "output_type": "stream",
     "text": [
      "Model: \"model_3\"\n",
      "_________________________________________________________________\n",
      "Layer (type)                 Output Shape              Param #   \n",
      "=================================================================\n",
      "input_2 (InputLayer)         [(None, 9)]               0         \n",
      "_________________________________________________________________\n",
      "dropout_2 (Dropout)          (None, 9)                 0         \n",
      "_________________________________________________________________\n",
      "dense_2 (Dense)              (None, 64)                640       \n",
      "_________________________________________________________________\n",
      "dropout_3 (Dropout)          (None, 64)                0         \n",
      "_________________________________________________________________\n",
      "elu_1 (ELU)                  (None, 64)                0         \n",
      "_________________________________________________________________\n",
      "dense_3 (Dense)              (None, 2)                 130       \n",
      "_________________________________________________________________\n",
      "distribution_lambda_1 (Distr ((None, 1), (None, 1))    0         \n",
      "=================================================================\n",
      "Total params: 770\n",
      "Trainable params: 770\n",
      "Non-trainable params: 0\n",
      "_________________________________________________________________\n"
     ]
    }
   ],
   "source": [
    "inputs = tf.keras.Input(shape=len(train_dataset.keys()))\n",
    "d0=layers.Dropout(0.1)(inputs,training=True)\n",
    "c1= layers.Dense(64)(d0)\n",
    "d1=layers.Dropout(0.5)(c1,training=True)\n",
    "a1=tf.keras.layers.ELU(alpha=1.0)(d1)\n",
    "c2=layers.Dense(2)(a1)\n",
    "#d2=layers.Dropout(0.00)(c2,training=True)\n",
    "#a2=tf.keras.layers.ELU(alpha=1.0)(d2)\n",
    "o=tfp.layers.DistributionLambda(\n",
    "      lambda t: tfd.Normal(loc=t[..., :1],\n",
    "                           scale=1e-3 + tf.math.softplus(0.05 * t[...,1:])))(c2) #The scale is stdev!!\n",
    "#outputs=layers.Activation('softmax')(c2)\n",
    "modeld2= tf.keras.Model(inputs, o)\n",
    "modeld2.summary()"
   ]
  },
  {
   "cell_type": "code",
   "execution_count": 80,
   "metadata": {},
   "outputs": [],
   "source": [
    "modeld2.compile(\n",
    "    loss=negloglik,\n",
    "    optimizer='adam'\n",
    ")"
   ]
  },
  {
   "cell_type": "code",
   "execution_count": 83,
   "metadata": {
    "scrolled": true
   },
   "outputs": [
    {
     "name": "stdout",
     "output_type": "stream",
     "text": [
      "Train on 251 samples, validate on 63 samples\n",
      "Epoch 1/200\n",
      "251/251 [==============================] - 0s 49us/sample - loss: 8.0376 - val_loss: 7.9863\n",
      "Epoch 2/200\n",
      "251/251 [==============================] - 0s 44us/sample - loss: 7.4580 - val_loss: 12.2954\n",
      "Epoch 3/200\n",
      "251/251 [==============================] - 0s 64us/sample - loss: 8.3727 - val_loss: 10.1584\n",
      "Epoch 4/200\n",
      "251/251 [==============================] - 0s 37us/sample - loss: 7.5100 - val_loss: 7.5606\n",
      "Epoch 5/200\n",
      "251/251 [==============================] - 0s 41us/sample - loss: 7.9367 - val_loss: 9.3223\n",
      "Epoch 6/200\n",
      "251/251 [==============================] - 0s 81us/sample - loss: 7.6511 - val_loss: 11.5807\n",
      "Epoch 7/200\n",
      "251/251 [==============================] - 0s 65us/sample - loss: 8.1599 - val_loss: 7.2345\n",
      "Epoch 8/200\n",
      "251/251 [==============================] - 0s 63us/sample - loss: 7.9410 - val_loss: 8.7682\n",
      "Epoch 9/200\n",
      "251/251 [==============================] - 0s 70us/sample - loss: 7.7854 - val_loss: 6.3082\n",
      "Epoch 10/200\n",
      "251/251 [==============================] - 0s 60us/sample - loss: 7.2579 - val_loss: 6.9084\n",
      "Epoch 11/200\n",
      "251/251 [==============================] - 0s 87us/sample - loss: 7.8002 - val_loss: 6.0109\n",
      "Epoch 12/200\n",
      "251/251 [==============================] - 0s 70us/sample - loss: 8.5997 - val_loss: 10.3518\n",
      "Epoch 13/200\n",
      "251/251 [==============================] - 0s 65us/sample - loss: 7.7696 - val_loss: 10.4840\n",
      "Epoch 14/200\n",
      "251/251 [==============================] - 0s 48us/sample - loss: 7.5167 - val_loss: 7.3671\n",
      "Epoch 15/200\n",
      "251/251 [==============================] - 0s 44us/sample - loss: 8.2784 - val_loss: 8.0845\n",
      "Epoch 16/200\n",
      "251/251 [==============================] - 0s 48us/sample - loss: 6.9994 - val_loss: 10.1342\n",
      "Epoch 17/200\n",
      "251/251 [==============================] - 0s 40us/sample - loss: 7.3862 - val_loss: 6.5308\n",
      "Epoch 18/200\n",
      "251/251 [==============================] - 0s 36us/sample - loss: 6.8591 - val_loss: 8.2173\n",
      "Epoch 19/200\n",
      "251/251 [==============================] - 0s 40us/sample - loss: 7.1712 - val_loss: 9.3260\n",
      "Epoch 20/200\n",
      "251/251 [==============================] - 0s 32us/sample - loss: 6.8118 - val_loss: 7.7869\n",
      "Epoch 21/200\n",
      "251/251 [==============================] - 0s 44us/sample - loss: 7.9664 - val_loss: 8.6018\n",
      "Epoch 22/200\n",
      "251/251 [==============================] - 0s 42us/sample - loss: 6.3969 - val_loss: 9.2373\n",
      "Epoch 23/200\n",
      "251/251 [==============================] - 0s 33us/sample - loss: 8.2667 - val_loss: 7.0794\n",
      "Epoch 24/200\n",
      "251/251 [==============================] - 0s 38us/sample - loss: 7.8765 - val_loss: 7.2574\n",
      "Epoch 25/200\n",
      "251/251 [==============================] - 0s 33us/sample - loss: 6.8292 - val_loss: 6.6075\n",
      "Epoch 26/200\n",
      "251/251 [==============================] - 0s 36us/sample - loss: 7.0261 - val_loss: 7.1292\n",
      "Epoch 27/200\n",
      "251/251 [==============================] - 0s 38us/sample - loss: 6.9562 - val_loss: 7.6360\n",
      "Epoch 28/200\n",
      "251/251 [==============================] - 0s 32us/sample - loss: 6.8924 - val_loss: 6.1246\n",
      "Epoch 29/200\n",
      "251/251 [==============================] - 0s 39us/sample - loss: 6.4762 - val_loss: 7.8304\n",
      "Epoch 30/200\n",
      "251/251 [==============================] - 0s 29us/sample - loss: 5.9166 - val_loss: 6.5029\n",
      "Epoch 31/200\n",
      "251/251 [==============================] - 0s 40us/sample - loss: 6.3577 - val_loss: 7.1797\n",
      "Epoch 32/200\n",
      "251/251 [==============================] - 0s 39us/sample - loss: 7.2759 - val_loss: 7.9902\n",
      "Epoch 33/200\n",
      "251/251 [==============================] - 0s 34us/sample - loss: 7.8466 - val_loss: 7.0925\n",
      "Epoch 34/200\n",
      "251/251 [==============================] - 0s 39us/sample - loss: 7.1779 - val_loss: 9.5075\n",
      "Epoch 35/200\n",
      "251/251 [==============================] - 0s 34us/sample - loss: 7.0095 - val_loss: 7.6582\n",
      "Epoch 36/200\n",
      "251/251 [==============================] - 0s 39us/sample - loss: 6.8764 - val_loss: 7.0339\n",
      "Epoch 37/200\n",
      "251/251 [==============================] - 0s 34us/sample - loss: 6.4390 - val_loss: 7.4902\n",
      "Epoch 38/200\n",
      "251/251 [==============================] - 0s 36us/sample - loss: 8.0053 - val_loss: 7.6138\n",
      "Epoch 39/200\n",
      "251/251 [==============================] - 0s 40us/sample - loss: 6.7574 - val_loss: 8.7422\n",
      "Epoch 40/200\n",
      "251/251 [==============================] - 0s 32us/sample - loss: 6.2281 - val_loss: 6.7090\n",
      "Epoch 41/200\n",
      "251/251 [==============================] - 0s 42us/sample - loss: 7.7767 - val_loss: 7.0506\n",
      "Epoch 42/200\n",
      "251/251 [==============================] - 0s 36us/sample - loss: 6.0730 - val_loss: 6.1492\n",
      "Epoch 43/200\n",
      "251/251 [==============================] - 0s 38us/sample - loss: 6.5672 - val_loss: 6.7039\n",
      "Epoch 44/200\n",
      "251/251 [==============================] - 0s 42us/sample - loss: 6.1424 - val_loss: 6.9044\n",
      "Epoch 45/200\n",
      "251/251 [==============================] - 0s 34us/sample - loss: 7.4133 - val_loss: 7.4634\n",
      "Epoch 46/200\n",
      "251/251 [==============================] - 0s 39us/sample - loss: 6.7594 - val_loss: 6.9529\n",
      "Epoch 47/200\n",
      "251/251 [==============================] - 0s 41us/sample - loss: 6.6695 - val_loss: 6.0611\n",
      "Epoch 48/200\n",
      "251/251 [==============================] - 0s 43us/sample - loss: 6.4411 - val_loss: 5.1211\n",
      "Epoch 49/200\n",
      "251/251 [==============================] - 0s 38us/sample - loss: 6.1361 - val_loss: 8.6445\n",
      "Epoch 50/200\n",
      "251/251 [==============================] - 0s 37us/sample - loss: 7.4236 - val_loss: 8.2073\n",
      "Epoch 51/200\n",
      "251/251 [==============================] - 0s 32us/sample - loss: 6.2510 - val_loss: 6.5216\n",
      "Epoch 52/200\n",
      "251/251 [==============================] - 0s 40us/sample - loss: 7.5527 - val_loss: 5.8542\n",
      "Epoch 53/200\n",
      "251/251 [==============================] - 0s 37us/sample - loss: 7.1686 - val_loss: 8.2330\n",
      "Epoch 54/200\n",
      "251/251 [==============================] - 0s 38us/sample - loss: 5.8704 - val_loss: 7.6282\n",
      "Epoch 55/200\n",
      "251/251 [==============================] - 0s 39us/sample - loss: 7.1790 - val_loss: 5.3555\n",
      "Epoch 56/200\n",
      "251/251 [==============================] - 0s 35us/sample - loss: 6.7213 - val_loss: 7.1418\n",
      "Epoch 57/200\n",
      "251/251 [==============================] - 0s 42us/sample - loss: 5.6102 - val_loss: 6.9765\n",
      "Epoch 58/200\n",
      "251/251 [==============================] - 0s 40us/sample - loss: 6.3917 - val_loss: 6.2583\n",
      "Epoch 59/200\n",
      "251/251 [==============================] - 0s 35us/sample - loss: 6.9911 - val_loss: 5.2461\n",
      "Epoch 60/200\n",
      "251/251 [==============================] - 0s 40us/sample - loss: 6.6852 - val_loss: 5.7801\n",
      "Epoch 61/200\n",
      "251/251 [==============================] - 0s 36us/sample - loss: 5.7366 - val_loss: 5.5659\n",
      "Epoch 62/200\n",
      "251/251 [==============================] - 0s 38us/sample - loss: 6.5438 - val_loss: 7.1042\n",
      "Epoch 63/200\n",
      "251/251 [==============================] - 0s 39us/sample - loss: 7.1231 - val_loss: 6.4523\n",
      "Epoch 64/200\n",
      "251/251 [==============================] - 0s 32us/sample - loss: 6.2927 - val_loss: 9.0433\n",
      "Epoch 65/200\n",
      "251/251 [==============================] - 0s 42us/sample - loss: 6.0543 - val_loss: 5.8819\n",
      "Epoch 66/200\n",
      "251/251 [==============================] - 0s 36us/sample - loss: 5.6378 - val_loss: 6.3761\n",
      "Epoch 67/200\n",
      "251/251 [==============================] - 0s 40us/sample - loss: 6.8892 - val_loss: 5.4341\n",
      "Epoch 68/200\n",
      "251/251 [==============================] - 0s 43us/sample - loss: 6.3175 - val_loss: 5.1599\n",
      "Epoch 69/200\n",
      "251/251 [==============================] - 0s 36us/sample - loss: 5.7800 - val_loss: 4.8560\n",
      "Epoch 70/200\n",
      "251/251 [==============================] - 0s 40us/sample - loss: 6.1021 - val_loss: 4.6837\n",
      "Epoch 71/200\n",
      "251/251 [==============================] - 0s 40us/sample - loss: 6.3035 - val_loss: 6.4153\n",
      "Epoch 72/200\n",
      "251/251 [==============================] - 0s 34us/sample - loss: 5.2096 - val_loss: 5.1765\n",
      "Epoch 73/200\n",
      "251/251 [==============================] - 0s 41us/sample - loss: 5.2702 - val_loss: 7.9617\n",
      "Epoch 74/200\n",
      "251/251 [==============================] - 0s 37us/sample - loss: 6.7474 - val_loss: 8.3631\n",
      "Epoch 75/200\n",
      "251/251 [==============================] - 0s 36us/sample - loss: 7.9156 - val_loss: 6.8690\n",
      "Epoch 76/200\n",
      "251/251 [==============================] - 0s 39us/sample - loss: 5.5420 - val_loss: 5.3080\n",
      "Epoch 77/200\n",
      "251/251 [==============================] - 0s 32us/sample - loss: 7.2933 - val_loss: 7.3940\n",
      "Epoch 78/200\n"
     ]
    },
    {
     "name": "stdout",
     "output_type": "stream",
     "text": [
      "251/251 [==============================] - 0s 40us/sample - loss: 5.3035 - val_loss: 7.8192\n",
      "Epoch 79/200\n",
      "251/251 [==============================] - 0s 39us/sample - loss: 6.3958 - val_loss: 6.5337\n",
      "Epoch 80/200\n",
      "251/251 [==============================] - 0s 35us/sample - loss: 5.5653 - val_loss: 5.8139\n",
      "Epoch 81/200\n",
      "251/251 [==============================] - 0s 34us/sample - loss: 5.6453 - val_loss: 5.2125\n",
      "Epoch 82/200\n",
      "251/251 [==============================] - 0s 28us/sample - loss: 5.8318 - val_loss: 7.5584\n",
      "Epoch 83/200\n",
      "251/251 [==============================] - 0s 35us/sample - loss: 6.3455 - val_loss: 4.6507\n",
      "Epoch 84/200\n",
      "251/251 [==============================] - 0s 30us/sample - loss: 5.9787 - val_loss: 5.0856\n",
      "Epoch 85/200\n",
      "251/251 [==============================] - 0s 36us/sample - loss: 5.9686 - val_loss: 5.1404\n",
      "Epoch 86/200\n",
      "251/251 [==============================] - 0s 31us/sample - loss: 5.7202 - val_loss: 6.1657\n",
      "Epoch 87/200\n",
      "251/251 [==============================] - 0s 33us/sample - loss: 6.1405 - val_loss: 5.3989\n",
      "Epoch 88/200\n",
      "251/251 [==============================] - 0s 31us/sample - loss: 5.0894 - val_loss: 5.2295\n",
      "Epoch 89/200\n",
      "251/251 [==============================] - 0s 33us/sample - loss: 5.5221 - val_loss: 7.4349\n",
      "Epoch 90/200\n",
      "251/251 [==============================] - 0s 33us/sample - loss: 6.6014 - val_loss: 5.8740\n",
      "Epoch 91/200\n",
      "251/251 [==============================] - 0s 30us/sample - loss: 6.0015 - val_loss: 5.7709\n",
      "Epoch 92/200\n",
      "251/251 [==============================] - 0s 38us/sample - loss: 6.0886 - val_loss: 5.6820\n",
      "Epoch 93/200\n",
      "251/251 [==============================] - 0s 33us/sample - loss: 5.7730 - val_loss: 6.1477\n",
      "Epoch 94/200\n",
      "251/251 [==============================] - 0s 42us/sample - loss: 6.0036 - val_loss: 7.9736\n",
      "Epoch 95/200\n",
      "251/251 [==============================] - 0s 30us/sample - loss: 6.1496 - val_loss: 5.2148\n",
      "Epoch 96/200\n",
      "251/251 [==============================] - 0s 39us/sample - loss: 5.6519 - val_loss: 5.5370\n",
      "Epoch 97/200\n",
      "251/251 [==============================] - 0s 35us/sample - loss: 5.2897 - val_loss: 6.8280\n",
      "Epoch 98/200\n",
      "251/251 [==============================] - 0s 33us/sample - loss: 6.3733 - val_loss: 7.7437\n",
      "Epoch 99/200\n",
      "251/251 [==============================] - 0s 40us/sample - loss: 6.3021 - val_loss: 7.6667\n",
      "Epoch 100/200\n",
      "251/251 [==============================] - 0s 32us/sample - loss: 6.1721 - val_loss: 5.8257\n",
      "Epoch 101/200\n",
      "251/251 [==============================] - 0s 38us/sample - loss: 4.5638 - val_loss: 6.3607\n",
      "Epoch 102/200\n",
      "251/251 [==============================] - 0s 36us/sample - loss: 5.9965 - val_loss: 6.1999\n",
      "Epoch 103/200\n",
      "251/251 [==============================] - 0s 34us/sample - loss: 6.5737 - val_loss: 6.2135\n",
      "Epoch 104/200\n",
      "251/251 [==============================] - 0s 37us/sample - loss: 5.3865 - val_loss: 4.9120\n",
      "Epoch 105/200\n",
      "251/251 [==============================] - 0s 32us/sample - loss: 5.4039 - val_loss: 5.5387\n",
      "Epoch 106/200\n",
      "251/251 [==============================] - 0s 41us/sample - loss: 4.9693 - val_loss: 6.4680\n",
      "Epoch 107/200\n",
      "251/251 [==============================] - 0s 34us/sample - loss: 5.9502 - val_loss: 5.4536\n",
      "Epoch 108/200\n",
      "251/251 [==============================] - 0s 35us/sample - loss: 6.5732 - val_loss: 5.6663\n",
      "Epoch 109/200\n",
      "251/251 [==============================] - 0s 36us/sample - loss: 5.9924 - val_loss: 6.1469\n",
      "Epoch 110/200\n",
      "251/251 [==============================] - 0s 38us/sample - loss: 5.4848 - val_loss: 5.9960\n",
      "Epoch 111/200\n",
      "251/251 [==============================] - 0s 40us/sample - loss: 5.6528 - val_loss: 4.8938\n",
      "Epoch 112/200\n",
      "251/251 [==============================] - 0s 31us/sample - loss: 4.8480 - val_loss: 8.5263\n",
      "Epoch 113/200\n",
      "251/251 [==============================] - 0s 37us/sample - loss: 4.9086 - val_loss: 5.7778\n",
      "Epoch 114/200\n",
      "251/251 [==============================] - 0s 33us/sample - loss: 6.1046 - val_loss: 6.7510\n",
      "Epoch 115/200\n",
      "251/251 [==============================] - 0s 39us/sample - loss: 5.7001 - val_loss: 4.8228\n",
      "Epoch 116/200\n",
      "251/251 [==============================] - 0s 35us/sample - loss: 5.6145 - val_loss: 6.5171\n",
      "Epoch 117/200\n",
      "251/251 [==============================] - 0s 33us/sample - loss: 5.1094 - val_loss: 5.3048\n",
      "Epoch 118/200\n",
      "251/251 [==============================] - 0s 38us/sample - loss: 5.2973 - val_loss: 5.3358\n",
      "Epoch 119/200\n",
      "251/251 [==============================] - 0s 31us/sample - loss: 5.2805 - val_loss: 5.3740\n",
      "Epoch 120/200\n",
      "251/251 [==============================] - 0s 37us/sample - loss: 4.6050 - val_loss: 6.9599\n",
      "Epoch 121/200\n",
      "251/251 [==============================] - 0s 33us/sample - loss: 5.2367 - val_loss: 5.6070\n",
      "Epoch 122/200\n",
      "251/251 [==============================] - 0s 35us/sample - loss: 5.1685 - val_loss: 4.3415\n",
      "Epoch 123/200\n",
      "251/251 [==============================] - 0s 34us/sample - loss: 5.4184 - val_loss: 5.0540\n",
      "Epoch 124/200\n",
      "251/251 [==============================] - 0s 36us/sample - loss: 5.3531 - val_loss: 4.6951\n",
      "Epoch 125/200\n",
      "251/251 [==============================] - 0s 41us/sample - loss: 5.3515 - val_loss: 4.5962\n",
      "Epoch 126/200\n",
      "251/251 [==============================] - 0s 33us/sample - loss: 4.9063 - val_loss: 4.9395\n",
      "Epoch 127/200\n",
      "251/251 [==============================] - 0s 36us/sample - loss: 5.6613 - val_loss: 4.1132\n",
      "Epoch 128/200\n",
      "251/251 [==============================] - 0s 35us/sample - loss: 5.2616 - val_loss: 5.0493\n",
      "Epoch 129/200\n",
      "251/251 [==============================] - 0s 33us/sample - loss: 5.0162 - val_loss: 5.2254\n",
      "Epoch 130/200\n",
      "251/251 [==============================] - 0s 36us/sample - loss: 5.1293 - val_loss: 5.0987\n",
      "Epoch 131/200\n",
      "251/251 [==============================] - 0s 31us/sample - loss: 6.0224 - val_loss: 7.2499\n",
      "Epoch 132/200\n",
      "251/251 [==============================] - 0s 37us/sample - loss: 4.5964 - val_loss: 5.9075\n",
      "Epoch 133/200\n",
      "251/251 [==============================] - 0s 33us/sample - loss: 4.7578 - val_loss: 4.6059\n",
      "Epoch 134/200\n",
      "251/251 [==============================] - 0s 37us/sample - loss: 5.0872 - val_loss: 4.7299\n",
      "Epoch 135/200\n",
      "251/251 [==============================] - 0s 35us/sample - loss: 5.0045 - val_loss: 5.8720\n",
      "Epoch 136/200\n",
      "251/251 [==============================] - 0s 35us/sample - loss: 5.7945 - val_loss: 5.6848\n",
      "Epoch 137/200\n",
      "251/251 [==============================] - 0s 40us/sample - loss: 4.3251 - val_loss: 4.8811\n",
      "Epoch 138/200\n",
      "251/251 [==============================] - 0s 35us/sample - loss: 5.7496 - val_loss: 6.1576\n",
      "Epoch 139/200\n",
      "251/251 [==============================] - 0s 42us/sample - loss: 4.9991 - val_loss: 6.1221\n",
      "Epoch 140/200\n",
      "251/251 [==============================] - 0s 38us/sample - loss: 4.6178 - val_loss: 7.0919\n",
      "Epoch 141/200\n",
      "251/251 [==============================] - 0s 34us/sample - loss: 5.4898 - val_loss: 5.0445\n",
      "Epoch 142/200\n",
      "251/251 [==============================] - 0s 45us/sample - loss: 4.8587 - val_loss: 4.4456\n",
      "Epoch 143/200\n",
      "251/251 [==============================] - 0s 38us/sample - loss: 5.1433 - val_loss: 4.7337\n",
      "Epoch 144/200\n",
      "251/251 [==============================] - 0s 35us/sample - loss: 5.2501 - val_loss: 5.8197\n",
      "Epoch 145/200\n",
      "251/251 [==============================] - 0s 39us/sample - loss: 4.9484 - val_loss: 7.0185\n",
      "Epoch 146/200\n",
      "251/251 [==============================] - 0s 30us/sample - loss: 4.9778 - val_loss: 7.0700\n",
      "Epoch 147/200\n",
      "251/251 [==============================] - 0s 40us/sample - loss: 5.0409 - val_loss: 6.5328\n",
      "Epoch 148/200\n",
      "251/251 [==============================] - 0s 31us/sample - loss: 4.9095 - val_loss: 4.5729\n",
      "Epoch 149/200\n",
      "251/251 [==============================] - 0s 39us/sample - loss: 4.9850 - val_loss: 4.9341\n",
      "Epoch 150/200\n",
      "251/251 [==============================] - 0s 36us/sample - loss: 4.9917 - val_loss: 5.1606\n",
      "Epoch 151/200\n",
      "251/251 [==============================] - 0s 35us/sample - loss: 4.7544 - val_loss: 4.6319\n",
      "Epoch 152/200\n",
      "251/251 [==============================] - 0s 42us/sample - loss: 4.8503 - val_loss: 5.7884\n",
      "Epoch 153/200\n",
      "251/251 [==============================] - 0s 33us/sample - loss: 5.2935 - val_loss: 5.7758\n",
      "Epoch 154/200\n",
      "251/251 [==============================] - 0s 41us/sample - loss: 4.7803 - val_loss: 4.2125\n",
      "Epoch 155/200\n"
     ]
    },
    {
     "name": "stdout",
     "output_type": "stream",
     "text": [
      "251/251 [==============================] - 0s 36us/sample - loss: 5.2459 - val_loss: 5.3104\n",
      "Epoch 156/200\n",
      "251/251 [==============================] - 0s 34us/sample - loss: 4.8913 - val_loss: 5.9569\n",
      "Epoch 157/200\n",
      "251/251 [==============================] - 0s 39us/sample - loss: 4.6908 - val_loss: 5.9179\n",
      "Epoch 158/200\n",
      "251/251 [==============================] - 0s 35us/sample - loss: 4.0304 - val_loss: 4.2141\n",
      "Epoch 159/200\n",
      "251/251 [==============================] - 0s 37us/sample - loss: 5.2501 - val_loss: 5.1585\n",
      "Epoch 160/200\n",
      "251/251 [==============================] - 0s 36us/sample - loss: 4.5752 - val_loss: 7.2076\n",
      "Epoch 161/200\n",
      "251/251 [==============================] - 0s 36us/sample - loss: 5.1050 - val_loss: 4.4972\n",
      "Epoch 162/200\n",
      "251/251 [==============================] - 0s 40us/sample - loss: 5.5728 - val_loss: 3.6340\n",
      "Epoch 163/200\n",
      "251/251 [==============================] - 0s 32us/sample - loss: 4.6387 - val_loss: 6.2378\n",
      "Epoch 164/200\n",
      "251/251 [==============================] - 0s 38us/sample - loss: 5.1307 - val_loss: 5.8347\n",
      "Epoch 165/200\n",
      "251/251 [==============================] - 0s 33us/sample - loss: 4.9805 - val_loss: 4.2953\n",
      "Epoch 166/200\n",
      "251/251 [==============================] - 0s 35us/sample - loss: 4.7643 - val_loss: 6.4645\n",
      "Epoch 167/200\n",
      "251/251 [==============================] - 0s 36us/sample - loss: 5.0757 - val_loss: 4.9384\n",
      "Epoch 168/200\n",
      "251/251 [==============================] - 0s 31us/sample - loss: 4.9290 - val_loss: 5.1857\n",
      "Epoch 169/200\n",
      "251/251 [==============================] - 0s 39us/sample - loss: 4.5226 - val_loss: 4.4559\n",
      "Epoch 170/200\n",
      "251/251 [==============================] - 0s 31us/sample - loss: 4.6114 - val_loss: 4.5188\n",
      "Epoch 171/200\n",
      "251/251 [==============================] - 0s 33us/sample - loss: 4.9543 - val_loss: 4.8020\n",
      "Epoch 172/200\n",
      "251/251 [==============================] - 0s 33us/sample - loss: 5.3070 - val_loss: 4.0540\n",
      "Epoch 173/200\n",
      "251/251 [==============================] - 0s 32us/sample - loss: 4.6606 - val_loss: 5.4579\n",
      "Epoch 174/200\n",
      "251/251 [==============================] - 0s 33us/sample - loss: 5.2284 - val_loss: 3.8786\n",
      "Epoch 175/200\n",
      "251/251 [==============================] - 0s 31us/sample - loss: 4.4716 - val_loss: 5.0221\n",
      "Epoch 176/200\n",
      "251/251 [==============================] - 0s 34us/sample - loss: 4.6484 - val_loss: 4.6529\n",
      "Epoch 177/200\n",
      "251/251 [==============================] - 0s 34us/sample - loss: 4.8764 - val_loss: 4.9309\n",
      "Epoch 178/200\n",
      "251/251 [==============================] - 0s 37us/sample - loss: 4.0617 - val_loss: 5.5788\n",
      "Epoch 179/200\n",
      "251/251 [==============================] - 0s 30us/sample - loss: 4.9736 - val_loss: 4.1521\n",
      "Epoch 180/200\n",
      "251/251 [==============================] - 0s 35us/sample - loss: 5.2368 - val_loss: 5.2470\n",
      "Epoch 181/200\n",
      "251/251 [==============================] - 0s 29us/sample - loss: 4.1419 - val_loss: 4.2098\n",
      "Epoch 182/200\n",
      "251/251 [==============================] - 0s 35us/sample - loss: 4.6461 - val_loss: 4.6269\n",
      "Epoch 183/200\n",
      "251/251 [==============================] - 0s 31us/sample - loss: 4.5317 - val_loss: 5.1129\n",
      "Epoch 184/200\n",
      "251/251 [==============================] - 0s 32us/sample - loss: 4.8177 - val_loss: 4.9410\n",
      "Epoch 185/200\n",
      "251/251 [==============================] - 0s 32us/sample - loss: 5.1549 - val_loss: 4.4346\n",
      "Epoch 186/200\n",
      "251/251 [==============================] - 0s 33us/sample - loss: 4.5565 - val_loss: 4.7135\n",
      "Epoch 187/200\n",
      "251/251 [==============================] - 0s 33us/sample - loss: 4.9136 - val_loss: 4.5990\n",
      "Epoch 188/200\n",
      "251/251 [==============================] - 0s 34us/sample - loss: 4.6064 - val_loss: 4.9310\n",
      "Epoch 189/200\n",
      "251/251 [==============================] - 0s 35us/sample - loss: 4.3346 - val_loss: 4.5499\n",
      "Epoch 190/200\n",
      "251/251 [==============================] - 0s 32us/sample - loss: 4.3467 - val_loss: 6.0171\n",
      "Epoch 191/200\n",
      "251/251 [==============================] - 0s 36us/sample - loss: 4.9909 - val_loss: 4.3492\n",
      "Epoch 192/200\n",
      "251/251 [==============================] - 0s 30us/sample - loss: 4.6595 - val_loss: 3.7772\n",
      "Epoch 193/200\n",
      "251/251 [==============================] - 0s 36us/sample - loss: 4.7210 - val_loss: 4.4339\n",
      "Epoch 194/200\n",
      "251/251 [==============================] - 0s 31us/sample - loss: 4.3899 - val_loss: 4.9792\n",
      "Epoch 195/200\n",
      "251/251 [==============================] - 0s 40us/sample - loss: 4.5814 - val_loss: 4.4420\n",
      "Epoch 196/200\n",
      "251/251 [==============================] - 0s 38us/sample - loss: 5.0369 - val_loss: 4.1344\n",
      "Epoch 197/200\n",
      "251/251 [==============================] - 0s 38us/sample - loss: 4.9027 - val_loss: 4.7164\n",
      "Epoch 198/200\n",
      "251/251 [==============================] - 0s 42us/sample - loss: 4.1891 - val_loss: 4.0949\n",
      "Epoch 199/200\n",
      "251/251 [==============================] - 0s 35us/sample - loss: 4.5692 - val_loss: 4.1926\n",
      "Epoch 200/200\n",
      "251/251 [==============================] - 0s 37us/sample - loss: 4.0574 - val_loss: 4.3664\n"
     ]
    },
    {
     "data": {
      "text/plain": [
       "<tensorflow.python.keras.callbacks.History at 0x1a35bb5390>"
      ]
     },
     "execution_count": 83,
     "metadata": {},
     "output_type": "execute_result"
    }
   ],
   "source": [
    "modeld2.fit(\n",
    "  normed_train_data, train_labels,\n",
    "  epochs=200, validation_split = 0.2, verbose=1)"
   ]
  },
  {
   "cell_type": "code",
   "execution_count": 448,
   "metadata": {
    "collapsed": true
   },
   "outputs": [
    {
     "name": "stdout",
     "output_type": "stream",
     "text": [
      "Train on 251 samples, validate on 63 samples\n",
      "Epoch 1/50\n",
      "251/251 [==============================] - 0s 2ms/sample - loss: 570.5004 - mean_squared_error: 575.1005 - val_loss: 525.9553 - val_mean_squared_error: 553.2946\n",
      "Epoch 2/50\n",
      "251/251 [==============================] - 0s 81us/sample - loss: 453.3552 - mean_squared_error: 504.9183 - val_loss: 380.3773 - val_mean_squared_error: 456.9494\n",
      "Epoch 3/50\n",
      "251/251 [==============================] - 0s 93us/sample - loss: 322.3512 - mean_squared_error: 407.9053 - val_loss: 235.8625 - val_mean_squared_error: 325.7866\n",
      "Epoch 4/50\n",
      "251/251 [==============================] - 0s 63us/sample - loss: 196.5197 - mean_squared_error: 286.2785 - val_loss: 126.2707 - val_mean_squared_error: 203.3328\n",
      "Epoch 5/50\n",
      "251/251 [==============================] - 0s 60us/sample - loss: 108.7934 - mean_squared_error: 173.7511 - val_loss: 61.6762 - val_mean_squared_error: 110.7957\n",
      "Epoch 6/50\n",
      "251/251 [==============================] - 0s 59us/sample - loss: 52.4355 - mean_squared_error: 94.1882 - val_loss: 31.7167 - val_mean_squared_error: 61.2742\n",
      "Epoch 7/50\n",
      "251/251 [==============================] - 0s 56us/sample - loss: 28.2033 - mean_squared_error: 57.0412 - val_loss: 20.1608 - val_mean_squared_error: 43.6417\n",
      "Epoch 8/50\n",
      "251/251 [==============================] - 0s 54us/sample - loss: 21.2526 - mean_squared_error: 49.5770 - val_loss: 14.4097 - val_mean_squared_error: 38.2311\n",
      "Epoch 9/50\n",
      "251/251 [==============================] - 0s 54us/sample - loss: 15.6552 - mean_squared_error: 40.5641 - val_loss: 10.7044 - val_mean_squared_error: 36.0982\n",
      "Epoch 10/50\n",
      "251/251 [==============================] - 0s 48us/sample - loss: 11.0615 - mean_squared_error: 33.0170 - val_loss: 7.9234 - val_mean_squared_error: 26.6053\n",
      "Epoch 11/50\n",
      "251/251 [==============================] - 0s 51us/sample - loss: 9.0254 - mean_squared_error: 30.6298 - val_loss: 6.3119 - val_mean_squared_error: 22.6583\n",
      "Epoch 12/50\n",
      "251/251 [==============================] - 0s 52us/sample - loss: 6.8391 - mean_squared_error: 23.0185 - val_loss: 5.0759 - val_mean_squared_error: 19.1708\n",
      "Epoch 13/50\n",
      "251/251 [==============================] - 0s 54us/sample - loss: 6.6786 - mean_squared_error: 27.6804 - val_loss: 4.2443 - val_mean_squared_error: 19.8969\n",
      "Epoch 14/50\n",
      "251/251 [==============================] - 0s 55us/sample - loss: 5.3503 - mean_squared_error: 23.8284 - val_loss: 3.7111 - val_mean_squared_error: 19.1944\n",
      "Epoch 15/50\n",
      "251/251 [==============================] - 0s 53us/sample - loss: 5.3586 - mean_squared_error: 27.2697 - val_loss: 3.5354 - val_mean_squared_error: 16.3659\n",
      "Epoch 16/50\n",
      "251/251 [==============================] - 0s 46us/sample - loss: 4.7191 - mean_squared_error: 25.3211 - val_loss: 2.9893 - val_mean_squared_error: 17.3314\n",
      "Epoch 17/50\n",
      "251/251 [==============================] - 0s 48us/sample - loss: 3.9690 - mean_squared_error: 26.8141 - val_loss: 2.7624 - val_mean_squared_error: 15.5003\n",
      "Epoch 18/50\n",
      "251/251 [==============================] - 0s 50us/sample - loss: 3.8338 - mean_squared_error: 27.1539 - val_loss: 2.6382 - val_mean_squared_error: 12.5234\n",
      "Epoch 19/50\n",
      "251/251 [==============================] - 0s 55us/sample - loss: 3.5114 - mean_squared_error: 22.5832 - val_loss: 2.5601 - val_mean_squared_error: 19.3776\n",
      "Epoch 20/50\n",
      "251/251 [==============================] - 0s 50us/sample - loss: 3.6019 - mean_squared_error: 28.5433 - val_loss: 2.5002 - val_mean_squared_error: 17.6079\n",
      "Epoch 21/50\n",
      "251/251 [==============================] - 0s 52us/sample - loss: 3.1597 - mean_squared_error: 24.7704 - val_loss: 2.4877 - val_mean_squared_error: 14.5293\n",
      "Epoch 22/50\n",
      "251/251 [==============================] - 0s 49us/sample - loss: 2.8495 - mean_squared_error: 25.6793 - val_loss: 2.4719 - val_mean_squared_error: 20.9100\n",
      "Epoch 23/50\n",
      "251/251 [==============================] - 0s 46us/sample - loss: 2.9539 - mean_squared_error: 25.0216 - val_loss: 2.4176 - val_mean_squared_error: 16.1486\n",
      "Epoch 24/50\n",
      "251/251 [==============================] - 0s 47us/sample - loss: 3.0780 - mean_squared_error: 28.7958 - val_loss: 2.4641 - val_mean_squared_error: 24.3615\n",
      "Epoch 25/50\n",
      "251/251 [==============================] - 0s 51us/sample - loss: 2.7792 - mean_squared_error: 28.8582 - val_loss: 2.4331 - val_mean_squared_error: 21.0215\n",
      "Epoch 26/50\n",
      "251/251 [==============================] - 0s 51us/sample - loss: 2.9006 - mean_squared_error: 28.6124 - val_loss: 2.4819 - val_mean_squared_error: 17.7852\n",
      "Epoch 27/50\n",
      "251/251 [==============================] - 0s 50us/sample - loss: 2.7178 - mean_squared_error: 25.3203 - val_loss: 2.4817 - val_mean_squared_error: 23.7804\n",
      "Epoch 28/50\n",
      "251/251 [==============================] - 0s 48us/sample - loss: 2.7590 - mean_squared_error: 35.3984 - val_loss: 2.4768 - val_mean_squared_error: 21.9696\n",
      "Epoch 29/50\n",
      "251/251 [==============================] - 0s 47us/sample - loss: 2.8529 - mean_squared_error: 36.7761 - val_loss: 2.4671 - val_mean_squared_error: 24.0349\n",
      "Epoch 30/50\n",
      "251/251 [==============================] - 0s 50us/sample - loss: 2.8065 - mean_squared_error: 35.6293 - val_loss: 2.4851 - val_mean_squared_error: 22.6193\n",
      "Epoch 31/50\n",
      "251/251 [==============================] - 0s 55us/sample - loss: 2.6834 - mean_squared_error: 26.1986 - val_loss: 2.4816 - val_mean_squared_error: 26.3121\n",
      "Epoch 32/50\n",
      "251/251 [==============================] - 0s 51us/sample - loss: 2.7517 - mean_squared_error: 29.4073 - val_loss: 2.5497 - val_mean_squared_error: 47.4354\n",
      "Epoch 33/50\n",
      "251/251 [==============================] - 0s 46us/sample - loss: 2.7119 - mean_squared_error: 29.8551 - val_loss: 2.5525 - val_mean_squared_error: 26.9115\n",
      "Epoch 34/50\n",
      "251/251 [==============================] - 0s 48us/sample - loss: 2.6864 - mean_squared_error: 33.0320 - val_loss: 2.4955 - val_mean_squared_error: 22.4024\n",
      "Epoch 35/50\n",
      "251/251 [==============================] - 0s 47us/sample - loss: 2.7285 - mean_squared_error: 35.4304 - val_loss: 2.5612 - val_mean_squared_error: 27.4101\n",
      "Epoch 36/50\n",
      "251/251 [==============================] - 0s 51us/sample - loss: 2.6930 - mean_squared_error: 22.0361 - val_loss: 2.5119 - val_mean_squared_error: 26.4139\n",
      "Epoch 37/50\n",
      "251/251 [==============================] - 0s 50us/sample - loss: 2.7854 - mean_squared_error: 31.8888 - val_loss: 2.5044 - val_mean_squared_error: 20.9010\n",
      "Epoch 38/50\n",
      "251/251 [==============================] - 0s 49us/sample - loss: 2.7147 - mean_squared_error: 26.5266 - val_loss: 2.4984 - val_mean_squared_error: 17.4315\n",
      "Epoch 39/50\n",
      "251/251 [==============================] - 0s 47us/sample - loss: 2.7028 - mean_squared_error: 36.8199 - val_loss: 2.4972 - val_mean_squared_error: 21.0431\n",
      "Epoch 40/50\n",
      "251/251 [==============================] - 0s 48us/sample - loss: 2.7198 - mean_squared_error: 38.9480 - val_loss: 2.4866 - val_mean_squared_error: 26.7560\n",
      "Epoch 41/50\n",
      "251/251 [==============================] - 0s 51us/sample - loss: 2.6398 - mean_squared_error: 30.4947 - val_loss: 2.5070 - val_mean_squared_error: 22.6130\n",
      "Epoch 42/50\n",
      "251/251 [==============================] - 0s 51us/sample - loss: 2.7755 - mean_squared_error: 34.3943 - val_loss: 2.5005 - val_mean_squared_error: 35.4587\n",
      "Epoch 43/50\n",
      "251/251 [==============================] - 0s 50us/sample - loss: 2.6813 - mean_squared_error: 30.8726 - val_loss: 2.5014 - val_mean_squared_error: 16.7568\n",
      "Epoch 44/50\n",
      "251/251 [==============================] - 0s 51us/sample - loss: 2.7138 - mean_squared_error: 30.8207 - val_loss: 2.4945 - val_mean_squared_error: 17.0099\n",
      "Epoch 45/50\n",
      "251/251 [==============================] - 0s 56us/sample - loss: 2.6516 - mean_squared_error: 25.1779 - val_loss: 2.5071 - val_mean_squared_error: 22.0255\n",
      "Epoch 46/50\n",
      "251/251 [==============================] - 0s 57us/sample - loss: 2.6592 - mean_squared_error: 33.2297 - val_loss: 2.4836 - val_mean_squared_error: 23.8184\n",
      "Epoch 47/50\n",
      "251/251 [==============================] - 0s 57us/sample - loss: 2.6263 - mean_squared_error: 23.4419 - val_loss: 2.4876 - val_mean_squared_error: 25.3780\n",
      "Epoch 48/50\n",
      "251/251 [==============================] - 0s 58us/sample - loss: 2.6970 - mean_squared_error: 31.1125 - val_loss: 2.4802 - val_mean_squared_error: 24.1951\n",
      "Epoch 49/50\n",
      "251/251 [==============================] - 0s 54us/sample - loss: 2.6549 - mean_squared_error: 29.5559 - val_loss: 2.4655 - val_mean_squared_error: 22.6603\n",
      "Epoch 50/50\n",
      "251/251 [==============================] - 0s 54us/sample - loss: 2.6181 - mean_squared_error: 29.9147 - val_loss: 2.4652 - val_mean_squared_error: 37.2320\n"
     ]
    },
    {
     "data": {
      "text/plain": [
       "<tensorflow.python.keras.callbacks.History at 0x1a524a1cf8>"
      ]
     },
     "execution_count": 448,
     "metadata": {},
     "output_type": "execute_result"
    }
   ],
   "source": [
    "modeld.fit(\n",
    "  normed_train_data, train_labels,\n",
    "  epochs=50, validation_split = 0.2, verbose=1)"
   ]
  },
  {
   "cell_type": "code",
   "execution_count": 84,
   "metadata": {},
   "outputs": [],
   "source": [
    "modeld3=tf.keras.Model(inputs, c2)"
   ]
  },
  {
   "cell_type": "markdown",
   "metadata": {},
   "source": [
    "Model3 goes from the inputs to the mean and variance of normal distribution. The variance thus gives the aleatoric uncertainty. "
   ]
  },
  {
   "cell_type": "code",
   "execution_count": 161,
   "metadata": {},
   "outputs": [],
   "source": [
    "meanvar=[]\n",
    "D=1000\n",
    "for i in range(0,D):\n",
    "    l=modeld3.predict(example_batch)\n",
    "    l[:,1]=1e-3 + tf.math.softplus(0.05 * l[:,1])\n",
    "    meanvar.append(l)\n",
    "meanss=np.mean(meanvar,axis=0) #Mean of means and variances\n",
    "varss= np.var(meanvar,axis=0)  #Variance of means and variances"
   ]
  },
  {
   "cell_type": "code",
   "execution_count": 472,
   "metadata": {
    "collapsed": true
   },
   "outputs": [
    {
     "name": "stdout",
     "output_type": "stream",
     "text": [
      "The tensorboard extension is already loaded. To reload it, use:\n",
      "  %reload_ext tensorboard\n"
     ]
    },
    {
     "data": {
      "text/plain": [
       "Reusing TensorBoard on port 6009 (pid 31971), started 0:02:23 ago. (Use '!kill 31971' to kill it.)"
      ]
     },
     "metadata": {},
     "output_type": "display_data"
    },
    {
     "data": {
      "text/html": [
       "\n",
       "        <iframe\n",
       "            width=\"100%\"\n",
       "            height=\"800\"\n",
       "            src=\"http://localhost:6009\"\n",
       "            frameborder=\"0\"\n",
       "            allowfullscreen\n",
       "        ></iframe>\n",
       "        "
      ],
      "text/plain": [
       "<IPython.lib.display.IFrame at 0x1a43ae7ba8>"
      ]
     },
     "metadata": {},
     "output_type": "display_data"
    }
   ],
   "source": [
    "# Load TENSORBOARD\n",
    "%load_ext tensorboard\n",
    "# Start TENSORBOARD\n",
    "%tensorboard --logdir my_logs"
   ]
  },
  {
   "cell_type": "code",
   "execution_count": 17,
   "metadata": {},
   "outputs": [],
   "source": [
    "modeld.save(\"modeld.h5\")\n"
   ]
  },
  {
   "cell_type": "markdown",
   "metadata": {
    "heading_collapsed": true
   },
   "source": [
    "## Comparing the results"
   ]
  },
  {
   "cell_type": "markdown",
   "metadata": {},
   "source": [
    "## Combining aleatoric and epistemic uncertainty"
   ]
  },
  {
   "cell_type": "markdown",
   "metadata": {},
   "source": [
    "The approach is as follows: to deal with aleatoric uncertainty I output the mean and variance of a normal distribution and I use the negative log likelihood as the loss function. In order to deal with epistemic uncertainty I let the network learn a distribution over the weights instead of point estimates. This means that everytime I put some datapoint through my trained network it will output a different (!) distribution. I can then do this a number of times and look at the mean of means of the distributions. I can also look at the variance of the means of distributions. This will tell me how certain my model is of the mean (epistemic uncertainty in this case). I can also look at the mean of the variances of the distribution (this tells me how certain my model is about the aleatoric uncertainty)."
   ]
  },
  {
   "cell_type": "markdown",
   "metadata": {
    "heading_collapsed": true
   },
   "source": [
    "### Stuf that is now unneccesary"
   ]
  },
  {
   "cell_type": "code",
   "execution_count": 290,
   "metadata": {
    "hidden": true
   },
   "outputs": [],
   "source": [
    "def epi(x):\n",
    "    B1=4\n",
    "    B=4\n",
    "    de=modeld(x)\n",
    "    d=de.sample()\n",
    "    for i in range(1,B):\n",
    "            l=modeld(x).sample()\n",
    "            d=np.hstack((d,l))      \n",
    "    return(e)"
   ]
  },
  {
   "cell_type": "code",
   "execution_count": 328,
   "metadata": {
    "hidden": true
   },
   "outputs": [],
   "source": [
    "def epi2(x):\n",
    "    B1=50 #The number of distributions I evaluate \n",
    "    B2=1000 #The number of points I take from a distribution to determine the variance\n",
    "    with keras.backend.learning_phase_scope(1):\n",
    "        de=modeld(x)\n",
    "        d=de.sample()\n",
    "        for i in range(1,B2):\n",
    "            l=de.sample()\n",
    "            d=np.hstack((d,l))\n",
    "        e=np.var(d,axis=1)\n",
    "        for b in range(0,B1):\n",
    "            de=modeld(x)\n",
    "            d=de.sample()\n",
    "            for c in range(1,B2):\n",
    "                l=de.sample()\n",
    "                d=np.hstack((d,l))\n",
    "            t=np.var(d,axis=1)\n",
    "            e=np.hstack((e,t))\n",
    "        final=e.reshape(len(x),np.int(len(e)/len(x)))\n",
    "    return(np.sqrt(final))"
   ]
  },
  {
   "cell_type": "code",
   "execution_count": 329,
   "metadata": {
    "hidden": true
   },
   "outputs": [],
   "source": [
    "def meane(x):\n",
    "    B=100\n",
    "    d=[]\n",
    "    with keras.backend.learning_phase_scope(1):\n",
    "        a=modeld(x).mean()\n",
    "        for i in range(1,B):\n",
    "            l=modeld(x).mean()\n",
    "            a=np.hstack((a,l))\n",
    "    return(a)"
   ]
  },
  {
   "cell_type": "code",
   "execution_count": 330,
   "metadata": {
    "hidden": true
   },
   "outputs": [],
   "source": [
    "epis=epi2(example_batch.to_numpy())"
   ]
  },
  {
   "cell_type": "code",
   "execution_count": 331,
   "metadata": {
    "hidden": true
   },
   "outputs": [],
   "source": [
    "means=meane(example_batch.to_numpy())"
   ]
  },
  {
   "cell_type": "markdown",
   "metadata": {},
   "source": [
    "### Results"
   ]
  },
  {
   "cell_type": "markdown",
   "metadata": {},
   "source": [
    "I have trained a neural network that outputs a distribution. This distribution has a mean and a variance. Since the weights are not a point estimate but a distribution, I get a different distribution every time I put data trough the network! I did this a number of times in order to get the average of the means of the distribution and the variance of the variances of the distributions. This second quantity can be thought of as the model uncertainty of the aleatoric uncertainty! The first column gives the mean (over all the distribution realisations) of the mean of the distributions. The second column gives the variance of the means (how much do the means change if we pass the same point through the network a number of times?). The third column is the mean of the variances of the distributions. I calculated this by taking B1 different distributions and sampling B2 points from each distribution to get the variance of each distribution. Then I looked at the means of those variances. The variance of the variances is given in column 4 and the true value in column 6. Note that I used a dropout method to get the epistemic uncertainties. This gives uncalibrated standard deviations!"
   ]
  },
  {
   "cell_type": "code",
   "execution_count": 162,
   "metadata": {
    "scrolled": true
   },
   "outputs": [
    {
     "data": {
      "text/html": [
       "<div>\n",
       "<style scoped>\n",
       "    .dataframe tbody tr th:only-of-type {\n",
       "        vertical-align: middle;\n",
       "    }\n",
       "\n",
       "    .dataframe tbody tr th {\n",
       "        vertical-align: top;\n",
       "    }\n",
       "\n",
       "    .dataframe thead th {\n",
       "        text-align: right;\n",
       "    }\n",
       "</style>\n",
       "<table border=\"1\" class=\"dataframe\">\n",
       "  <thead>\n",
       "    <tr style=\"text-align: right;\">\n",
       "      <th></th>\n",
       "      <th>expected value</th>\n",
       "      <th>epistemic uncertainty</th>\n",
       "      <th>aleatoric uncertainty</th>\n",
       "      <th>epst uncrtnty of altrc uncrtnty</th>\n",
       "      <th>true value</th>\n",
       "    </tr>\n",
       "  </thead>\n",
       "  <tbody>\n",
       "    <tr>\n",
       "      <th>0</th>\n",
       "      <td>12.599900</td>\n",
       "      <td>5.850087</td>\n",
       "      <td>1.858276</td>\n",
       "      <td>0.577967</td>\n",
       "      <td>15.0</td>\n",
       "    </tr>\n",
       "    <tr>\n",
       "      <th>1</th>\n",
       "      <td>13.514923</td>\n",
       "      <td>3.581459</td>\n",
       "      <td>1.755138</td>\n",
       "      <td>0.392781</td>\n",
       "      <td>10.0</td>\n",
       "    </tr>\n",
       "    <tr>\n",
       "      <th>2</th>\n",
       "      <td>12.265011</td>\n",
       "      <td>3.411803</td>\n",
       "      <td>1.601677</td>\n",
       "      <td>0.361993</td>\n",
       "      <td>9.0</td>\n",
       "    </tr>\n",
       "    <tr>\n",
       "      <th>3</th>\n",
       "      <td>24.880915</td>\n",
       "      <td>4.479910</td>\n",
       "      <td>2.355287</td>\n",
       "      <td>0.428901</td>\n",
       "      <td>25.0</td>\n",
       "    </tr>\n",
       "    <tr>\n",
       "      <th>4</th>\n",
       "      <td>18.890968</td>\n",
       "      <td>3.425918</td>\n",
       "      <td>1.928373</td>\n",
       "      <td>0.333183</td>\n",
       "      <td>19.0</td>\n",
       "    </tr>\n",
       "    <tr>\n",
       "      <th>5</th>\n",
       "      <td>15.295409</td>\n",
       "      <td>3.923345</td>\n",
       "      <td>1.897949</td>\n",
       "      <td>0.452535</td>\n",
       "      <td>14.0</td>\n",
       "    </tr>\n",
       "    <tr>\n",
       "      <th>6</th>\n",
       "      <td>15.035235</td>\n",
       "      <td>3.658480</td>\n",
       "      <td>1.814502</td>\n",
       "      <td>0.407024</td>\n",
       "      <td>14.0</td>\n",
       "    </tr>\n",
       "    <tr>\n",
       "      <th>7</th>\n",
       "      <td>15.109076</td>\n",
       "      <td>3.800194</td>\n",
       "      <td>1.890169</td>\n",
       "      <td>0.452534</td>\n",
       "      <td>13.0</td>\n",
       "    </tr>\n",
       "    <tr>\n",
       "      <th>8</th>\n",
       "      <td>18.065075</td>\n",
       "      <td>3.340594</td>\n",
       "      <td>1.874552</td>\n",
       "      <td>0.328103</td>\n",
       "      <td>18.0</td>\n",
       "    </tr>\n",
       "    <tr>\n",
       "      <th>9</th>\n",
       "      <td>30.656433</td>\n",
       "      <td>5.851227</td>\n",
       "      <td>2.966657</td>\n",
       "      <td>0.623476</td>\n",
       "      <td>35.0</td>\n",
       "    </tr>\n",
       "    <tr>\n",
       "      <th>10</th>\n",
       "      <td>25.620476</td>\n",
       "      <td>3.904865</td>\n",
       "      <td>2.506334</td>\n",
       "      <td>0.385753</td>\n",
       "      <td>25.0</td>\n",
       "    </tr>\n",
       "    <tr>\n",
       "      <th>11</th>\n",
       "      <td>26.710224</td>\n",
       "      <td>4.792919</td>\n",
       "      <td>2.532451</td>\n",
       "      <td>0.470304</td>\n",
       "      <td>19.0</td>\n",
       "    </tr>\n",
       "    <tr>\n",
       "      <th>12</th>\n",
       "      <td>15.907470</td>\n",
       "      <td>3.537383</td>\n",
       "      <td>1.825448</td>\n",
       "      <td>0.392913</td>\n",
       "      <td>13.0</td>\n",
       "    </tr>\n",
       "    <tr>\n",
       "      <th>13</th>\n",
       "      <td>25.430149</td>\n",
       "      <td>3.915085</td>\n",
       "      <td>2.470952</td>\n",
       "      <td>0.377252</td>\n",
       "      <td>28.0</td>\n",
       "    </tr>\n",
       "    <tr>\n",
       "      <th>14</th>\n",
       "      <td>15.106276</td>\n",
       "      <td>3.751588</td>\n",
       "      <td>1.811251</td>\n",
       "      <td>0.408300</td>\n",
       "      <td>13.0</td>\n",
       "    </tr>\n",
       "    <tr>\n",
       "      <th>15</th>\n",
       "      <td>15.675822</td>\n",
       "      <td>3.503765</td>\n",
       "      <td>1.802748</td>\n",
       "      <td>0.379927</td>\n",
       "      <td>14.0</td>\n",
       "    </tr>\n",
       "    <tr>\n",
       "      <th>16</th>\n",
       "      <td>16.631678</td>\n",
       "      <td>3.665877</td>\n",
       "      <td>1.882138</td>\n",
       "      <td>0.401002</td>\n",
       "      <td>15.0</td>\n",
       "    </tr>\n",
       "    <tr>\n",
       "      <th>17</th>\n",
       "      <td>15.580611</td>\n",
       "      <td>3.642375</td>\n",
       "      <td>1.852881</td>\n",
       "      <td>0.410254</td>\n",
       "      <td>13.0</td>\n",
       "    </tr>\n",
       "    <tr>\n",
       "      <th>18</th>\n",
       "      <td>18.954979</td>\n",
       "      <td>3.274133</td>\n",
       "      <td>1.942779</td>\n",
       "      <td>0.317120</td>\n",
       "      <td>18.0</td>\n",
       "    </tr>\n",
       "    <tr>\n",
       "      <th>19</th>\n",
       "      <td>15.125637</td>\n",
       "      <td>3.645149</td>\n",
       "      <td>1.837786</td>\n",
       "      <td>0.408975</td>\n",
       "      <td>12.0</td>\n",
       "    </tr>\n",
       "    <tr>\n",
       "      <th>20</th>\n",
       "      <td>15.823359</td>\n",
       "      <td>4.051943</td>\n",
       "      <td>1.952373</td>\n",
       "      <td>0.463563</td>\n",
       "      <td>16.0</td>\n",
       "    </tr>\n",
       "    <tr>\n",
       "      <th>21</th>\n",
       "      <td>27.400873</td>\n",
       "      <td>4.731032</td>\n",
       "      <td>2.588003</td>\n",
       "      <td>0.493772</td>\n",
       "      <td>24.0</td>\n",
       "    </tr>\n",
       "    <tr>\n",
       "      <th>22</th>\n",
       "      <td>21.249929</td>\n",
       "      <td>4.031857</td>\n",
       "      <td>2.012869</td>\n",
       "      <td>0.368821</td>\n",
       "      <td>19.0</td>\n",
       "    </tr>\n",
       "    <tr>\n",
       "      <th>23</th>\n",
       "      <td>21.779392</td>\n",
       "      <td>3.910447</td>\n",
       "      <td>2.044353</td>\n",
       "      <td>0.366595</td>\n",
       "      <td>24.0</td>\n",
       "    </tr>\n",
       "    <tr>\n",
       "      <th>24</th>\n",
       "      <td>31.405563</td>\n",
       "      <td>5.717769</td>\n",
       "      <td>3.017626</td>\n",
       "      <td>0.601694</td>\n",
       "      <td>31.0</td>\n",
       "    </tr>\n",
       "    <tr>\n",
       "      <th>25</th>\n",
       "      <td>25.569090</td>\n",
       "      <td>3.791254</td>\n",
       "      <td>2.484051</td>\n",
       "      <td>0.360674</td>\n",
       "      <td>26.0</td>\n",
       "    </tr>\n",
       "    <tr>\n",
       "      <th>26</th>\n",
       "      <td>16.582443</td>\n",
       "      <td>3.174006</td>\n",
       "      <td>1.764236</td>\n",
       "      <td>0.311655</td>\n",
       "      <td>16.0</td>\n",
       "    </tr>\n",
       "    <tr>\n",
       "      <th>27</th>\n",
       "      <td>25.674255</td>\n",
       "      <td>4.186599</td>\n",
       "      <td>2.405821</td>\n",
       "      <td>0.416193</td>\n",
       "      <td>24.0</td>\n",
       "    </tr>\n",
       "    <tr>\n",
       "      <th>28</th>\n",
       "      <td>17.331524</td>\n",
       "      <td>3.121821</td>\n",
       "      <td>1.804522</td>\n",
       "      <td>0.303401</td>\n",
       "      <td>18.0</td>\n",
       "    </tr>\n",
       "    <tr>\n",
       "      <th>29</th>\n",
       "      <td>19.228764</td>\n",
       "      <td>3.763631</td>\n",
       "      <td>1.984768</td>\n",
       "      <td>0.393622</td>\n",
       "      <td>20.0</td>\n",
       "    </tr>\n",
       "    <tr>\n",
       "      <th>30</th>\n",
       "      <td>30.236031</td>\n",
       "      <td>4.948812</td>\n",
       "      <td>2.853492</td>\n",
       "      <td>0.536624</td>\n",
       "      <td>29.0</td>\n",
       "    </tr>\n",
       "    <tr>\n",
       "      <th>31</th>\n",
       "      <td>21.543369</td>\n",
       "      <td>3.381965</td>\n",
       "      <td>2.104471</td>\n",
       "      <td>0.313858</td>\n",
       "      <td>18.0</td>\n",
       "    </tr>\n",
       "    <tr>\n",
       "      <th>32</th>\n",
       "      <td>19.864885</td>\n",
       "      <td>3.164146</td>\n",
       "      <td>1.999152</td>\n",
       "      <td>0.311111</td>\n",
       "      <td>19.0</td>\n",
       "    </tr>\n",
       "    <tr>\n",
       "      <th>33</th>\n",
       "      <td>23.183676</td>\n",
       "      <td>4.195824</td>\n",
       "      <td>2.149730</td>\n",
       "      <td>0.400098</td>\n",
       "      <td>22.0</td>\n",
       "    </tr>\n",
       "    <tr>\n",
       "      <th>34</th>\n",
       "      <td>28.038931</td>\n",
       "      <td>4.019726</td>\n",
       "      <td>2.694366</td>\n",
       "      <td>0.379020</td>\n",
       "      <td>26.0</td>\n",
       "    </tr>\n",
       "    <tr>\n",
       "      <th>35</th>\n",
       "      <td>17.037258</td>\n",
       "      <td>3.747010</td>\n",
       "      <td>1.883601</td>\n",
       "      <td>0.407462</td>\n",
       "      <td>17.5</td>\n",
       "    </tr>\n",
       "    <tr>\n",
       "      <th>36</th>\n",
       "      <td>20.740364</td>\n",
       "      <td>3.100296</td>\n",
       "      <td>2.064529</td>\n",
       "      <td>0.299701</td>\n",
       "      <td>22.5</td>\n",
       "    </tr>\n",
       "    <tr>\n",
       "      <th>37</th>\n",
       "      <td>31.371817</td>\n",
       "      <td>5.174504</td>\n",
       "      <td>3.084528</td>\n",
       "      <td>0.530417</td>\n",
       "      <td>29.0</td>\n",
       "    </tr>\n",
       "    <tr>\n",
       "      <th>38</th>\n",
       "      <td>31.064449</td>\n",
       "      <td>5.537411</td>\n",
       "      <td>2.905294</td>\n",
       "      <td>0.583813</td>\n",
       "      <td>29.0</td>\n",
       "    </tr>\n",
       "    <tr>\n",
       "      <th>39</th>\n",
       "      <td>18.461674</td>\n",
       "      <td>3.004905</td>\n",
       "      <td>1.879257</td>\n",
       "      <td>0.290153</td>\n",
       "      <td>20.0</td>\n",
       "    </tr>\n",
       "    <tr>\n",
       "      <th>40</th>\n",
       "      <td>32.201145</td>\n",
       "      <td>5.590286</td>\n",
       "      <td>3.045620</td>\n",
       "      <td>0.595623</td>\n",
       "      <td>32.0</td>\n",
       "    </tr>\n",
       "    <tr>\n",
       "      <th>41</th>\n",
       "      <td>30.967783</td>\n",
       "      <td>5.009436</td>\n",
       "      <td>2.927569</td>\n",
       "      <td>0.520647</td>\n",
       "      <td>28.0</td>\n",
       "    </tr>\n",
       "    <tr>\n",
       "      <th>42</th>\n",
       "      <td>17.556465</td>\n",
       "      <td>4.071537</td>\n",
       "      <td>1.957695</td>\n",
       "      <td>0.441886</td>\n",
       "      <td>13.0</td>\n",
       "    </tr>\n",
       "    <tr>\n",
       "      <th>43</th>\n",
       "      <td>35.846539</td>\n",
       "      <td>6.910445</td>\n",
       "      <td>3.465062</td>\n",
       "      <td>0.750179</td>\n",
       "      <td>43.1</td>\n",
       "    </tr>\n",
       "    <tr>\n",
       "      <th>44</th>\n",
       "      <td>32.744518</td>\n",
       "      <td>4.841694</td>\n",
       "      <td>3.085187</td>\n",
       "      <td>0.473620</td>\n",
       "      <td>36.1</td>\n",
       "    </tr>\n",
       "    <tr>\n",
       "      <th>45</th>\n",
       "      <td>35.824600</td>\n",
       "      <td>6.512582</td>\n",
       "      <td>3.426525</td>\n",
       "      <td>0.698535</td>\n",
       "      <td>32.8</td>\n",
       "    </tr>\n",
       "    <tr>\n",
       "      <th>46</th>\n",
       "      <td>22.325430</td>\n",
       "      <td>3.347651</td>\n",
       "      <td>2.190786</td>\n",
       "      <td>0.316424</td>\n",
       "      <td>20.5</td>\n",
       "    </tr>\n",
       "    <tr>\n",
       "      <th>47</th>\n",
       "      <td>23.661768</td>\n",
       "      <td>3.352043</td>\n",
       "      <td>2.287962</td>\n",
       "      <td>0.316162</td>\n",
       "      <td>20.8</td>\n",
       "    </tr>\n",
       "    <tr>\n",
       "      <th>48</th>\n",
       "      <td>19.854286</td>\n",
       "      <td>4.004655</td>\n",
       "      <td>2.037249</td>\n",
       "      <td>0.413686</td>\n",
       "      <td>18.1</td>\n",
       "    </tr>\n",
       "    <tr>\n",
       "      <th>49</th>\n",
       "      <td>28.111458</td>\n",
       "      <td>4.559640</td>\n",
       "      <td>2.597651</td>\n",
       "      <td>0.442398</td>\n",
       "      <td>27.5</td>\n",
       "    </tr>\n",
       "  </tbody>\n",
       "</table>\n",
       "</div>"
      ],
      "text/plain": [
       "    expected value  epistemic uncertainty  aleatoric uncertainty  \\\n",
       "0        12.599900               5.850087               1.858276   \n",
       "1        13.514923               3.581459               1.755138   \n",
       "2        12.265011               3.411803               1.601677   \n",
       "3        24.880915               4.479910               2.355287   \n",
       "4        18.890968               3.425918               1.928373   \n",
       "5        15.295409               3.923345               1.897949   \n",
       "6        15.035235               3.658480               1.814502   \n",
       "7        15.109076               3.800194               1.890169   \n",
       "8        18.065075               3.340594               1.874552   \n",
       "9        30.656433               5.851227               2.966657   \n",
       "10       25.620476               3.904865               2.506334   \n",
       "11       26.710224               4.792919               2.532451   \n",
       "12       15.907470               3.537383               1.825448   \n",
       "13       25.430149               3.915085               2.470952   \n",
       "14       15.106276               3.751588               1.811251   \n",
       "15       15.675822               3.503765               1.802748   \n",
       "16       16.631678               3.665877               1.882138   \n",
       "17       15.580611               3.642375               1.852881   \n",
       "18       18.954979               3.274133               1.942779   \n",
       "19       15.125637               3.645149               1.837786   \n",
       "20       15.823359               4.051943               1.952373   \n",
       "21       27.400873               4.731032               2.588003   \n",
       "22       21.249929               4.031857               2.012869   \n",
       "23       21.779392               3.910447               2.044353   \n",
       "24       31.405563               5.717769               3.017626   \n",
       "25       25.569090               3.791254               2.484051   \n",
       "26       16.582443               3.174006               1.764236   \n",
       "27       25.674255               4.186599               2.405821   \n",
       "28       17.331524               3.121821               1.804522   \n",
       "29       19.228764               3.763631               1.984768   \n",
       "30       30.236031               4.948812               2.853492   \n",
       "31       21.543369               3.381965               2.104471   \n",
       "32       19.864885               3.164146               1.999152   \n",
       "33       23.183676               4.195824               2.149730   \n",
       "34       28.038931               4.019726               2.694366   \n",
       "35       17.037258               3.747010               1.883601   \n",
       "36       20.740364               3.100296               2.064529   \n",
       "37       31.371817               5.174504               3.084528   \n",
       "38       31.064449               5.537411               2.905294   \n",
       "39       18.461674               3.004905               1.879257   \n",
       "40       32.201145               5.590286               3.045620   \n",
       "41       30.967783               5.009436               2.927569   \n",
       "42       17.556465               4.071537               1.957695   \n",
       "43       35.846539               6.910445               3.465062   \n",
       "44       32.744518               4.841694               3.085187   \n",
       "45       35.824600               6.512582               3.426525   \n",
       "46       22.325430               3.347651               2.190786   \n",
       "47       23.661768               3.352043               2.287962   \n",
       "48       19.854286               4.004655               2.037249   \n",
       "49       28.111458               4.559640               2.597651   \n",
       "\n",
       "    epst uncrtnty of altrc uncrtnty  true value  \n",
       "0                          0.577967        15.0  \n",
       "1                          0.392781        10.0  \n",
       "2                          0.361993         9.0  \n",
       "3                          0.428901        25.0  \n",
       "4                          0.333183        19.0  \n",
       "5                          0.452535        14.0  \n",
       "6                          0.407024        14.0  \n",
       "7                          0.452534        13.0  \n",
       "8                          0.328103        18.0  \n",
       "9                          0.623476        35.0  \n",
       "10                         0.385753        25.0  \n",
       "11                         0.470304        19.0  \n",
       "12                         0.392913        13.0  \n",
       "13                         0.377252        28.0  \n",
       "14                         0.408300        13.0  \n",
       "15                         0.379927        14.0  \n",
       "16                         0.401002        15.0  \n",
       "17                         0.410254        13.0  \n",
       "18                         0.317120        18.0  \n",
       "19                         0.408975        12.0  \n",
       "20                         0.463563        16.0  \n",
       "21                         0.493772        24.0  \n",
       "22                         0.368821        19.0  \n",
       "23                         0.366595        24.0  \n",
       "24                         0.601694        31.0  \n",
       "25                         0.360674        26.0  \n",
       "26                         0.311655        16.0  \n",
       "27                         0.416193        24.0  \n",
       "28                         0.303401        18.0  \n",
       "29                         0.393622        20.0  \n",
       "30                         0.536624        29.0  \n",
       "31                         0.313858        18.0  \n",
       "32                         0.311111        19.0  \n",
       "33                         0.400098        22.0  \n",
       "34                         0.379020        26.0  \n",
       "35                         0.407462        17.5  \n",
       "36                         0.299701        22.5  \n",
       "37                         0.530417        29.0  \n",
       "38                         0.583813        29.0  \n",
       "39                         0.290153        20.0  \n",
       "40                         0.595623        32.0  \n",
       "41                         0.520647        28.0  \n",
       "42                         0.441886        13.0  \n",
       "43                         0.750179        43.1  \n",
       "44                         0.473620        36.1  \n",
       "45                         0.698535        32.8  \n",
       "46                         0.316424        20.5  \n",
       "47                         0.316162        20.8  \n",
       "48                         0.413686        18.1  \n",
       "49                         0.442398        27.5  "
      ]
     },
     "execution_count": 162,
     "metadata": {},
     "output_type": "execute_result"
    }
   ],
   "source": [
    "df2 = pd.DataFrame(data=np.column_stack(([a[0] for a in np.mean(meanvar,axis=0)],\n",
    "                                         (np.sqrt([a[0] for a in np.var(meanvar,axis=0)])),\n",
    "                                         ([a[1] for a in np.mean((meanvar),axis=0)]),\n",
    "                                         np.sqrt([a[1] for a in np.var((meanvar),axis=0)]),\n",
    "                                         test_labels[:tn])),\n",
    "                  columns=['expected value',\n",
    "                           'epistemic uncertainty',\n",
    "                           'aleatoric uncertainty',\n",
    "                           'epst uncrtnty of altrc uncrtnty',\n",
    "                           'true value'])\n",
    "df2\n",
    "#N.B. I messed up the first data point on purpose!"
   ]
  },
  {
   "cell_type": "code",
   "execution_count": 156,
   "metadata": {},
   "outputs": [],
   "source": [
    "pd.options.mode.chained_assignment = None"
   ]
  },
  {
   "cell_type": "code",
   "execution_count": 160,
   "metadata": {
    "scrolled": true
   },
   "outputs": [],
   "source": [
    "example_batch.loc[9]=[3,3,8,3,3,3,0.8,-0.46,-0.46] #This allows me to deliberately mess up some data"
   ]
  },
  {
   "cell_type": "code",
   "execution_count": 173,
   "metadata": {},
   "outputs": [],
   "source": [
    "c=0.08\n",
    "df3=(df2[2:50]['expected value']-df2[2:50]['true value'])/((((df2[2:50]['epistemic uncertainty']**2+df2[2:50]['aleatoric uncertainty'])**2))**0.5) #Both uncertainties estimates\n",
    "df4=(df2[2:50]['expected value']-df2[2:50]['true value'])/(df2[2:50]['aleatoric uncertainty'])**0.5 #Aleatoric uncertainty estimation\n",
    "df5=(df2[2:50]['expected value']-df2[2:50]['true value'])/(((((c*df2[2:50]['epistemic uncertainty'])**2+df2[2:50]['aleatoric uncertainty'])**2))**0.5)"
   ]
  },
  {
   "cell_type": "markdown",
   "metadata": {},
   "source": [
    "Here I look at the (mu-muhat)/sigmahat"
   ]
  },
  {
   "cell_type": "code",
   "execution_count": 174,
   "metadata": {},
   "outputs": [
    {
     "name": "stdout",
     "output_type": "stream",
     "text": [
      "mean= 0.05685051066121586 std= 0.11463896314492253\n"
     ]
    },
    {
     "data": {
      "image/png": "[encoded data removed]",
      "text/plain": [
       "<Figure size 432x288 with 1 Axes>"
      ]
     },
     "metadata": {
      "needs_background": "light"
     },
     "output_type": "display_data"
    }
   ],
   "source": [
    "df3.hist()\n",
    "print('mean=',df3.mean(),'std=',np.sqrt(df3.var()))"
   ]
  },
  {
   "cell_type": "code",
   "execution_count": 165,
   "metadata": {},
   "outputs": [
    {
     "name": "stdout",
     "output_type": "stream",
     "text": [
      "mean= 0.7004499981041756 std= 1.5421414027639673\n"
     ]
    },
    {
     "data": {
      "image/png": "[encoded data removed]",
      "text/plain": [
       "<Figure size 432x288 with 1 Axes>"
      ]
     },
     "metadata": {
      "needs_background": "light"
     },
     "output_type": "display_data"
    }
   ],
   "source": [
    "df4.hist()\n",
    "print('mean=',df4.mean(),'std=',np.sqrt(df4.var()))"
   ]
  },
  {
   "cell_type": "markdown",
   "metadata": {},
   "source": [
    "When just looking at the aleatoric uncertainty we notics that the model overestimates the uncertainty. This could be because part of the uncertainty is in fact due to the epistemic uncertainty. The epistemic uncertainty via dropout is known to not be calibrated. "
   ]
  },
  {
   "cell_type": "code",
   "execution_count": 172,
   "metadata": {},
   "outputs": [
    {
     "name": "stdout",
     "output_type": "stream",
     "text": [
      "mean= 0.47719672691255416 std= 0.956049844057355\n"
     ]
    },
    {
     "data": {
      "image/png": "[encoded data removed]",
      "text/plain": [
       "<Figure size 432x288 with 1 Axes>"
      ]
     },
     "metadata": {
      "needs_background": "light"
     },
     "output_type": "display_data"
    }
   ],
   "source": [
    "df5.hist()\n",
    "print('mean=',df5.mean(),'std=',np.sqrt(df5.var()))"
   ]
  },
  {
   "cell_type": "markdown",
   "metadata": {},
   "source": []
  }
 ],
 "metadata": {
  "kernelspec": {
   "display_name": "Python 3",
   "language": "python",
   "name": "python3"
  },
  "language_info": {
   "codemirror_mode": {
    "name": "ipython",
    "version": 3
   },
   "file_extension": ".py",
   "mimetype": "text/x-python",
   "name": "python",
   "nbconvert_exporter": "python",
   "pygments_lexer": "ipython3",
   "version": "3.7.3"
  }
 },
 "nbformat": 4,
 "nbformat_minor": 2
}
